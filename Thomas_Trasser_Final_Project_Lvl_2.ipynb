{
  "nbformat": 4,
  "nbformat_minor": 0,
  "metadata": {
    "colab": {
      "provenance": [],
      "authorship_tag": "ABX9TyMvHWapmMHul/xbUAnlcP76",
      "include_colab_link": true
    },
    "kernelspec": {
      "name": "python3",
      "display_name": "Python 3"
    },
    "language_info": {
      "name": "python"
    }
  },
  "cells": [
    {
      "cell_type": "markdown",
      "metadata": {
        "id": "view-in-github",
        "colab_type": "text"
      },
      "source": [
        "<a href=\"https://colab.research.google.com/github/ttrasser/adventure-time/blob/main/Thomas_Trasser_Final_Project_Lvl_2.ipynb\" target=\"_parent\"><img src=\"https://colab.research.google.com/assets/colab-badge.svg\" alt=\"Open In Colab\"/></a>"
      ]
    },
    {
      "cell_type": "code",
      "source": [
        "# it is necesary to do an install of turtle for colab\n",
        "!pip install ColabTurtlePlus"
      ],
      "metadata": {
        "colab": {
          "base_uri": "https://localhost:8080/"
        },
        "id": "uPOVJ-tsgbRi",
        "outputId": "7b64968f-dc43-4eee-8d1d-47644a2884fe"
      },
      "execution_count": null,
      "outputs": [
        {
          "output_type": "stream",
          "name": "stdout",
          "text": [
            "Looking in indexes: https://pypi.org/simple, https://us-python.pkg.dev/colab-wheels/public/simple/\n",
            "Collecting ColabTurtlePlus\n",
            "  Downloading ColabTurtlePlus-2.0.1-py3-none-any.whl (31 kB)\n",
            "Installing collected packages: ColabTurtlePlus\n",
            "Successfully installed ColabTurtlePlus-2.0.1\n"
          ]
        }
      ]
    },
    {
      "cell_type": "code",
      "execution_count": null,
      "metadata": {
        "colab": {
          "base_uri": "https://localhost:8080/",
          "height": 421
        },
        "id": "baecqdOg6Ker",
        "outputId": "0153f5ff-0334-4789-87d1-875599ae3511"
      },
      "outputs": [
        {
          "output_type": "display_data",
          "data": {
            "text/plain": [
              "<IPython.core.display.HTML object>"
            ],
            "text/html": [
              "\n",
              "      <svg width=\"400\" height=\"400\">  \n",
              "        <rect width=\"100%\" height=\"100%\" style=\"fill:white;stroke:;stroke-width:1\"/>\n",
              "        \n",
              "        \n",
              "        \n",
              "        \n",
              "        \n",
              "        <g id=\"classic\" visibility=\"visible\" transform=\"rotate(-90,200.0,200.0) translate(200.0, 200.0)\">\n",
              "<polygon points=\"-5,-4.5 0,-2.5 5,-4.5 0,4.5\" transform=\"skewX(0) scale(1,1)\" style=\"stroke:rgb(0,0,0);fill:rgb(0,0,0);stroke-width:1\" />\n",
              "</g>\n",
              "      </svg>\n",
              "    "
            ]
          },
          "metadata": {}
        }
      ],
      "source": [
        "#import TurtlePlus\n",
        "from ColabTurtlePlus.Turtle import *\n",
        "#use clearscreen() to re-run commands in the cell\n",
        "clearscreen()\n",
        "setup(400,400) #note: default is 800 x 600\n",
        "# bgcolor('black') #set background to black if so desired\n",
        "\n",
        "#initialize a Turtle object\n",
        "finn = Turtle()\n",
        "\n",
        "#set turtle object color | Note: color is in RGB. Note: requires a tuple\n",
        "finn.color((0,0,0))\n",
        "\n",
        "#set turtle object shape | Possible shapes: Square, Arrow, Circle, Turtle, Triangle, Classic\n",
        "finn.shape(\"classic\")"
      ]
    },
    {
      "cell_type": "markdown",
      "source": [
        "#FINN"
      ],
      "metadata": {
        "id": "rE75X27bBVj_"
      }
    },
    {
      "cell_type": "code",
      "source": [
        "#function to draw Finn's Head\n",
        "\n",
        "def finn_hat(turtle_obj):\n",
        "  #move\n",
        "  finn.penup()\n",
        "  finn.forward(50)\n",
        "  finn.left(90)\n",
        "  finn.forward(0)\n",
        "  finn.pendown()\n",
        "  #right ear\n",
        "  finn.circle(10, 180, 30)\n",
        "  #turn\n",
        "  finn.right(90)\n",
        "  #top of head\n",
        "  finn.forward(80)\n",
        "  #turn\n",
        "  finn.right(90)\n",
        "  #left ear\n",
        "  finn.circle(10, 180, 30)\n",
        "  #left side\n",
        "  finn.forward(90)\n",
        "  #turn\n",
        "  finn.left(80)\n",
        "  #bottom of head\n",
        "  finn.circle(345, 20, 50)\n",
        "  #move\n",
        "  finn.left(80)\n",
        "  finn.forward(90)\n",
        "  finn.penup()\n",
        "  finn.forward(100)\n",
        "\n"
      ],
      "metadata": {
        "id": "uIIeFzy9ggR4"
      },
      "execution_count": null,
      "outputs": []
    },
    {
      "cell_type": "code",
      "source": [
        "#function to draw Finn's Face\n",
        "\n",
        "def finn_face(turtle_obj):\n",
        "#bottom arc\n",
        "  finn.seth(-45)\n",
        "  finn.color('bisque')\n",
        "  finn.circle(60,90)\n",
        "#right arc\n",
        "  finn.circle(30,90)\n",
        "#top arc\n",
        "  finn.circle(60,90)\n",
        "#left arc\n",
        "  finn.circle(30,90)"
      ],
      "metadata": {
        "id": "oB-HYyXRzRNq"
      },
      "execution_count": null,
      "outputs": []
    },
    {
      "cell_type": "code",
      "source": [
        "#function to draw Finn's Smile\n",
        "\n",
        "def finn_face_b(turtle_obj):\n",
        "  #pen color\n",
        "  finn.color('black')\n",
        "  #move\n",
        "  finn.up()\n",
        "  finn.back(70)\n",
        "  finn.down()\n",
        "  #left eye\n",
        "  finn.circle(2)\n",
        "  #move\n",
        "  finn.right(90)\n",
        "  finn.penup()\n",
        "  finn.forward(15)\n",
        "  finn.pendown()\n",
        "  #smile\n",
        "  finn.circle(10, 180, 30)\n",
        "  #move\n",
        "  finn.penup()\n",
        "  finn.forward(19)\n",
        "  finn.pendown()\n",
        "  finn.left(90)\n",
        "  #right eye\n",
        "  finn.circle(2)"
      ],
      "metadata": {
        "id": "MRg6qj_Z8IXk"
      },
      "execution_count": null,
      "outputs": []
    },
    {
      "cell_type": "code",
      "source": [
        "#draw Finn's Head\n",
        "finn_hat(finn)\n"
      ],
      "metadata": {
        "colab": {
          "base_uri": "https://localhost:8080/",
          "height": 421
        },
        "id": "uVSU1IZDHbkL",
        "outputId": "9c39a91f-479a-4977-8846-5856bdbb183e"
      },
      "execution_count": null,
      "outputs": [
        {
          "output_type": "display_data",
          "data": {
            "text/plain": [
              "<IPython.core.display.HTML object>"
            ],
            "text/html": [
              "\n",
              "      <svg width=\"400\" height=\"400\">  \n",
              "        <rect width=\"100%\" height=\"100%\" style=\"fill:white;stroke:;stroke-width:1\"/>\n",
              "        \n",
              "        \n",
              "        <path d=\"M 250.0 200.0 A 10 10 0 0 0 230.0 200.0\" stroke-linecap=\"round\" \n",
              "            fill=\"transparent\" fill-opacity=\"0\" style=\"stroke:rgb(0,0,0);stroke-width:1\"/><line x1=\"230.0\" y1=\"200.0\" x2=\"150.0\" y2=\"200.0\" stroke-linecap=\"round\" style=\"stroke:rgb(0,0,0);stroke-width:1\" /><path d=\"M 150.0 200.0 A 10 10 0 0 0 130.0 200.0\" stroke-linecap=\"round\" \n",
              "            fill=\"transparent\" fill-opacity=\"0\" style=\"stroke:rgb(0,0,0);stroke-width:1\"/><line x1=\"130.0\" y1=\"200.0\" x2=\"130.0\" y2=\"290.0\" stroke-linecap=\"round\" style=\"stroke:rgb(0,0,0);stroke-width:1\" /><path d=\"M 130.0 290.0 A 345 345 0 0 0 249.817 290.0\" stroke-linecap=\"round\" \n",
              "            fill=\"transparent\" fill-opacity=\"0\" style=\"stroke:rgb(0,0,0);stroke-width:1\"/><line x1=\"249.817\" y1=\"290.0\" x2=\"249.817\" y2=\"200.0\" stroke-linecap=\"round\" style=\"stroke:rgb(0,0,0);stroke-width:1\" />\n",
              "        \n",
              "        \n",
              "        <g id=\"classic\" visibility=\"visible\" transform=\"rotate(180.0,249.817,100.0) translate(249.817, 100.0)\">\n",
              "<polygon points=\"-5,-4.5 0,-2.5 5,-4.5 0,4.5\" transform=\"skewX(0) scale(1,1)\" style=\"stroke:rgb(0,0,0);fill:rgb(0,0,0);stroke-width:1\" />\n",
              "</g>\n",
              "      </svg>\n",
              "    "
            ]
          },
          "metadata": {}
        }
      ]
    },
    {
      "cell_type": "code",
      "source": [
        "#draw Finn's Face\n",
        "finn_face(finn)"
      ],
      "metadata": {
        "colab": {
          "base_uri": "https://localhost:8080/",
          "height": 421
        },
        "id": "tP_nhNCg0rVm",
        "outputId": "dd9a1016-cf5b-4148-df3b-4366a99b2f99"
      },
      "execution_count": null,
      "outputs": [
        {
          "output_type": "display_data",
          "data": {
            "text/plain": [
              "<IPython.core.display.HTML object>"
            ],
            "text/html": [
              "\n",
              "      <svg width=\"400\" height=\"400\">  \n",
              "        <rect width=\"100%\" height=\"100%\" style=\"fill:white;stroke:;stroke-width:1\"/>\n",
              "        \n",
              "        \n",
              "        <path d=\"M 250.0 200.0 A 10 10 0 0 0 230.0 200.0\" stroke-linecap=\"round\" \n",
              "            fill=\"transparent\" fill-opacity=\"0\" style=\"stroke:rgb(0,0,0);stroke-width:1\"/><line x1=\"230.0\" y1=\"200.0\" x2=\"150.0\" y2=\"200.0\" stroke-linecap=\"round\" style=\"stroke:rgb(0,0,0);stroke-width:1\" /><path d=\"M 150.0 200.0 A 10 10 0 0 0 130.0 200.0\" stroke-linecap=\"round\" \n",
              "            fill=\"transparent\" fill-opacity=\"0\" style=\"stroke:rgb(0,0,0);stroke-width:1\"/><line x1=\"130.0\" y1=\"200.0\" x2=\"130.0\" y2=\"290.0\" stroke-linecap=\"round\" style=\"stroke:rgb(0,0,0);stroke-width:1\" /><path d=\"M 130.0 290.0 A 345 345 0 0 0 249.817 290.0\" stroke-linecap=\"round\" \n",
              "            fill=\"transparent\" fill-opacity=\"0\" style=\"stroke:rgb(0,0,0);stroke-width:1\"/><line x1=\"249.817\" y1=\"290.0\" x2=\"249.817\" y2=\"200.0\" stroke-linecap=\"round\" style=\"stroke:rgb(0,0,0);stroke-width:1\" /><path d=\"M 249.817 100.0 A 60 60 0 0 0 334.67 100.0\" stroke-linecap=\"round\" \n",
              "            fill=\"transparent\" fill-opacity=\"0\" style=\"stroke:bisque;stroke-width:1\"/><path d=\"M 334.67 100.0 A 30 30 0 0 0 334.67 57.574\" stroke-linecap=\"round\" \n",
              "            fill=\"transparent\" fill-opacity=\"0\" style=\"stroke:bisque;stroke-width:1\"/><path d=\"M 334.67 57.574 A 60 60 0 0 0 249.817 57.574\" stroke-linecap=\"round\" \n",
              "            fill=\"transparent\" fill-opacity=\"0\" style=\"stroke:bisque;stroke-width:1\"/><path d=\"M 249.817 57.574 A 30 30 0 0 0 245.049 63.787\" stroke-linecap=\"round\" \n",
              "            fill=\"transparent\" fill-opacity=\"0\" style=\"stroke:bisque;stroke-width:1\"/><path d=\"M 245.049 63.787 A 30 30 0 0 0 242.052 71.022\" stroke-linecap=\"round\" \n",
              "            fill=\"transparent\" fill-opacity=\"0\" style=\"stroke:bisque;stroke-width:1\"/><path d=\"M 242.052 71.022 A 30 30 0 0 0 241.03 78.787\" stroke-linecap=\"round\" \n",
              "            fill=\"transparent\" fill-opacity=\"0\" style=\"stroke:bisque;stroke-width:1\"/><path d=\"M 241.03 78.787 A 30 30 0 0 0 242.052 86.552\" stroke-linecap=\"round\" \n",
              "            fill=\"transparent\" fill-opacity=\"0\" style=\"stroke:bisque;stroke-width:1\"/><path d=\"M 242.052 86.552 A 30 30 0 0 0 245.049 93.787\" stroke-linecap=\"round\" \n",
              "            fill=\"transparent\" fill-opacity=\"0\" style=\"stroke:bisque;stroke-width:1\"/><path d=\"M 245.049 93.787 A 30 30 0 0 0 249.817 100.0\" stroke-linecap=\"round\" \n",
              "            fill=\"transparent\" fill-opacity=\"0\" style=\"stroke:bisque;stroke-width:1\"/>\n",
              "        \n",
              "        \n",
              "        <g id=\"classic\" visibility=\"visible\" transform=\"rotate(-45.0,249.817,100.0) translate(249.817, 100.0)\">\n",
              "<polygon points=\"-5,-4.5 0,-2.5 5,-4.5 0,4.5\" transform=\"skewX(0) scale(1,1)\" style=\"stroke:bisque;fill:bisque;stroke-width:1\" />\n",
              "</g>\n",
              "      </svg>\n",
              "    "
            ]
          },
          "metadata": {}
        }
      ]
    },
    {
      "cell_type": "code",
      "source": [
        "#draw Finn's Smile\n",
        "finn_face_b(finn)"
      ],
      "metadata": {
        "colab": {
          "base_uri": "https://localhost:8080/",
          "height": 421
        },
        "id": "ThPdJV_N9ow7",
        "outputId": "cd659bbd-e044-4102-9cee-0f6408d11651"
      },
      "execution_count": null,
      "outputs": [
        {
          "output_type": "display_data",
          "data": {
            "text/plain": [
              "<IPython.core.display.HTML object>"
            ],
            "text/html": [
              "\n",
              "      <svg width=\"400\" height=\"400\">  \n",
              "        <rect width=\"100%\" height=\"100%\" style=\"fill:white;stroke:;stroke-width:1\"/>\n",
              "        \n",
              "        \n",
              "        <path d=\"M 250.0 200.0 A 10 10 0 0 0 230.0 200.0\" stroke-linecap=\"round\" \n",
              "            fill=\"transparent\" fill-opacity=\"0\" style=\"stroke:rgb(0,0,0);stroke-width:1\"/><line x1=\"230.0\" y1=\"200.0\" x2=\"150.0\" y2=\"200.0\" stroke-linecap=\"round\" style=\"stroke:rgb(0,0,0);stroke-width:1\" /><path d=\"M 150.0 200.0 A 10 10 0 0 0 130.0 200.0\" stroke-linecap=\"round\" \n",
              "            fill=\"transparent\" fill-opacity=\"0\" style=\"stroke:rgb(0,0,0);stroke-width:1\"/><line x1=\"130.0\" y1=\"200.0\" x2=\"130.0\" y2=\"290.0\" stroke-linecap=\"round\" style=\"stroke:rgb(0,0,0);stroke-width:1\" /><path d=\"M 130.0 290.0 A 345 345 0 0 0 249.817 290.0\" stroke-linecap=\"round\" \n",
              "            fill=\"transparent\" fill-opacity=\"0\" style=\"stroke:rgb(0,0,0);stroke-width:1\"/><line x1=\"249.817\" y1=\"290.0\" x2=\"249.817\" y2=\"200.0\" stroke-linecap=\"round\" style=\"stroke:rgb(0,0,0);stroke-width:1\" /><path d=\"M 249.817 100.0 A 60 60 0 0 0 334.67 100.0\" stroke-linecap=\"round\" \n",
              "            fill=\"transparent\" fill-opacity=\"0\" style=\"stroke:bisque;stroke-width:1\"/><path d=\"M 334.67 100.0 A 30 30 0 0 0 334.67 57.574\" stroke-linecap=\"round\" \n",
              "            fill=\"transparent\" fill-opacity=\"0\" style=\"stroke:bisque;stroke-width:1\"/><path d=\"M 334.67 57.574 A 60 60 0 0 0 249.817 57.574\" stroke-linecap=\"round\" \n",
              "            fill=\"transparent\" fill-opacity=\"0\" style=\"stroke:bisque;stroke-width:1\"/><path d=\"M 249.817 57.574 A 30 30 0 0 0 249.817 100.0\" stroke-linecap=\"round\" \n",
              "            fill=\"transparent\" fill-opacity=\"0\" style=\"stroke:bisque;stroke-width:1\"/><path d=\"M 200.32 50.503 A 2 2 0 0 0 203.148 47.675\" stroke-linecap=\"round\" \n",
              "            fill=\"transparent\" fill-opacity=\"0\" style=\"stroke:black;stroke-width:1\"/><path d=\"M 203.148 47.675 A 2 2 0 0 0 200.32 50.503\" stroke-linecap=\"round\" \n",
              "            fill=\"transparent\" fill-opacity=\"0\" style=\"stroke:black;stroke-width:1\"/><path d=\"M 189.713 61.11 A 10 10 0 0 0 203.855 75.252\" stroke-linecap=\"round\" \n",
              "            fill=\"transparent\" fill-opacity=\"0\" style=\"stroke:black;stroke-width:1\"/><path d=\"M 217.29 61.817 A 2 2 0 0 0 216.876 61.499\" stroke-linecap=\"round\" \n",
              "            fill=\"transparent\" fill-opacity=\"0\" style=\"stroke:black;stroke-width:1\"/><path d=\"M 216.876 61.499 A 2 2 0 0 0 216.394 61.299\" stroke-linecap=\"round\" \n",
              "            fill=\"transparent\" fill-opacity=\"0\" style=\"stroke:black;stroke-width:1\"/><path d=\"M 216.394 61.299 A 2 2 0 0 0 215.876 61.231\" stroke-linecap=\"round\" \n",
              "            fill=\"transparent\" fill-opacity=\"0\" style=\"stroke:black;stroke-width:1\"/><path d=\"M 215.876 61.231 A 2 2 0 0 0 215.358 61.299\" stroke-linecap=\"round\" \n",
              "            fill=\"transparent\" fill-opacity=\"0\" style=\"stroke:black;stroke-width:1\"/><path d=\"M 215.358 61.299 A 2 2 0 0 0 214.876 61.499\" stroke-linecap=\"round\" \n",
              "            fill=\"transparent\" fill-opacity=\"0\" style=\"stroke:black;stroke-width:1\"/><path d=\"M 214.876 61.499 A 2 2 0 0 0 214.462 61.817\" stroke-linecap=\"round\" \n",
              "            fill=\"transparent\" fill-opacity=\"0\" style=\"stroke:black;stroke-width:1\"/><path d=\"M 214.462 61.817 A 2 2 0 0 0 214.144 62.231\" stroke-linecap=\"round\" \n",
              "            fill=\"transparent\" fill-opacity=\"0\" style=\"stroke:black;stroke-width:1\"/><path d=\"M 214.144 62.231 A 2 2 0 0 0 213.944 62.713\" stroke-linecap=\"round\" \n",
              "            fill=\"transparent\" fill-opacity=\"0\" style=\"stroke:black;stroke-width:1\"/><path d=\"M 213.944 62.713 A 2 2 0 0 0 213.876 63.231\" stroke-linecap=\"round\" \n",
              "            fill=\"transparent\" fill-opacity=\"0\" style=\"stroke:black;stroke-width:1\"/><path d=\"M 213.876 63.231 A 2 2 0 0 0 213.944 63.749\" stroke-linecap=\"round\" \n",
              "            fill=\"transparent\" fill-opacity=\"0\" style=\"stroke:black;stroke-width:1\"/><path d=\"M 213.944 63.749 A 2 2 0 0 0 214.144 64.231\" stroke-linecap=\"round\" \n",
              "            fill=\"transparent\" fill-opacity=\"0\" style=\"stroke:black;stroke-width:1\"/><path d=\"M 214.144 64.231 A 2 2 0 0 0 214.462 64.645\" stroke-linecap=\"round\" \n",
              "            fill=\"transparent\" fill-opacity=\"0\" style=\"stroke:black;stroke-width:1\"/><path d=\"M 214.462 64.645 A 2 2 0 0 0 214.876 64.963\" stroke-linecap=\"round\" \n",
              "            fill=\"transparent\" fill-opacity=\"0\" style=\"stroke:black;stroke-width:1\"/><path d=\"M 214.876 64.963 A 2 2 0 0 0 215.358 65.163\" stroke-linecap=\"round\" \n",
              "            fill=\"transparent\" fill-opacity=\"0\" style=\"stroke:black;stroke-width:1\"/><path d=\"M 215.358 65.163 A 2 2 0 0 0 215.876 65.231\" stroke-linecap=\"round\" \n",
              "            fill=\"transparent\" fill-opacity=\"0\" style=\"stroke:black;stroke-width:1\"/><path d=\"M 215.876 65.231 A 2 2 0 0 0 216.394 65.163\" stroke-linecap=\"round\" \n",
              "            fill=\"transparent\" fill-opacity=\"0\" style=\"stroke:black;stroke-width:1\"/><path d=\"M 216.394 65.163 A 2 2 0 0 0 216.876 64.963\" stroke-linecap=\"round\" \n",
              "            fill=\"transparent\" fill-opacity=\"0\" style=\"stroke:black;stroke-width:1\"/><path d=\"M 216.876 64.963 A 2 2 0 0 0 217.29 64.645\" stroke-linecap=\"round\" \n",
              "            fill=\"transparent\" fill-opacity=\"0\" style=\"stroke:black;stroke-width:1\"/><path d=\"M 217.29 64.645 A 2 2 0 0 0 217.608 64.231\" stroke-linecap=\"round\" \n",
              "            fill=\"transparent\" fill-opacity=\"0\" style=\"stroke:black;stroke-width:1\"/><path d=\"M 217.608 64.231 A 2 2 0 0 0 217.808 63.749\" stroke-linecap=\"round\" \n",
              "            fill=\"transparent\" fill-opacity=\"0\" style=\"stroke:black;stroke-width:1\"/><path d=\"M 217.808 63.749 A 2 2 0 0 0 217.876 63.231\" stroke-linecap=\"round\" \n",
              "            fill=\"transparent\" fill-opacity=\"0\" style=\"stroke:black;stroke-width:1\"/><path d=\"M 217.876 63.231 A 2 2 0 0 0 217.808 62.713\" stroke-linecap=\"round\" \n",
              "            fill=\"transparent\" fill-opacity=\"0\" style=\"stroke:black;stroke-width:1\"/><path d=\"M 217.808 62.713 A 2 2 0 0 0 217.608 62.231\" stroke-linecap=\"round\" \n",
              "            fill=\"transparent\" fill-opacity=\"0\" style=\"stroke:black;stroke-width:1\"/><path d=\"M 217.608 62.231 A 2 2 0 0 0 217.29 61.817\" stroke-linecap=\"round\" \n",
              "            fill=\"transparent\" fill-opacity=\"0\" style=\"stroke:black;stroke-width:1\"/>\n",
              "        \n",
              "        \n",
              "        <g id=\"classic\" visibility=\"visible\" transform=\"rotate(135.0,217.29,61.817) translate(217.29, 61.817)\">\n",
              "<polygon points=\"-5,-4.5 0,-2.5 5,-4.5 0,4.5\" transform=\"skewX(0) scale(1,1)\" style=\"stroke:black;fill:black;stroke-width:1\" />\n",
              "</g>\n",
              "      </svg>\n",
              "    "
            ]
          },
          "metadata": {}
        }
      ]
    },
    {
      "cell_type": "code",
      "source": [
        "#get rid of the pen\n",
        "finn.penup()\n",
        "finn.forward(800)"
      ],
      "metadata": {
        "colab": {
          "base_uri": "https://localhost:8080/",
          "height": 421
        },
        "id": "dyHOnMc3ZeqG",
        "outputId": "933365d5-8a1f-4f56-c217-0c8f7b390da6"
      },
      "execution_count": null,
      "outputs": [
        {
          "output_type": "display_data",
          "data": {
            "text/plain": [
              "<IPython.core.display.HTML object>"
            ],
            "text/html": [
              "\n",
              "      <svg width=\"400\" height=\"400\">  \n",
              "        <rect width=\"100%\" height=\"100%\" style=\"fill:white;stroke:;stroke-width:1\"/>\n",
              "        \n",
              "        \n",
              "        <path d=\"M 250.0 200.0 A 10 10 0 0 0 230.0 200.0\" stroke-linecap=\"round\" \n",
              "            fill=\"transparent\" fill-opacity=\"0\" style=\"stroke:rgb(0,0,0);stroke-width:1\"/><line x1=\"230.0\" y1=\"200.0\" x2=\"150.0\" y2=\"200.0\" stroke-linecap=\"round\" style=\"stroke:rgb(0,0,0);stroke-width:1\" /><path d=\"M 150.0 200.0 A 10 10 0 0 0 130.0 200.0\" stroke-linecap=\"round\" \n",
              "            fill=\"transparent\" fill-opacity=\"0\" style=\"stroke:rgb(0,0,0);stroke-width:1\"/><line x1=\"130.0\" y1=\"200.0\" x2=\"130.0\" y2=\"290.0\" stroke-linecap=\"round\" style=\"stroke:rgb(0,0,0);stroke-width:1\" /><path d=\"M 130.0 290.0 A 345 345 0 0 0 249.817 290.0\" stroke-linecap=\"round\" \n",
              "            fill=\"transparent\" fill-opacity=\"0\" style=\"stroke:rgb(0,0,0);stroke-width:1\"/><line x1=\"249.817\" y1=\"290.0\" x2=\"249.817\" y2=\"200.0\" stroke-linecap=\"round\" style=\"stroke:rgb(0,0,0);stroke-width:1\" /><path d=\"M 249.817 100.0 A 60 60 0 0 0 334.67 100.0\" stroke-linecap=\"round\" \n",
              "            fill=\"transparent\" fill-opacity=\"0\" style=\"stroke:bisque;stroke-width:1\"/><path d=\"M 334.67 100.0 A 30 30 0 0 0 334.67 57.574\" stroke-linecap=\"round\" \n",
              "            fill=\"transparent\" fill-opacity=\"0\" style=\"stroke:bisque;stroke-width:1\"/><path d=\"M 334.67 57.574 A 60 60 0 0 0 249.817 57.574\" stroke-linecap=\"round\" \n",
              "            fill=\"transparent\" fill-opacity=\"0\" style=\"stroke:bisque;stroke-width:1\"/><path d=\"M 249.817 57.574 A 30 30 0 0 0 249.817 100.0\" stroke-linecap=\"round\" \n",
              "            fill=\"transparent\" fill-opacity=\"0\" style=\"stroke:bisque;stroke-width:1\"/><path d=\"M 200.32 50.503 A 2 2 0 0 0 203.148 47.675\" stroke-linecap=\"round\" \n",
              "            fill=\"transparent\" fill-opacity=\"0\" style=\"stroke:black;stroke-width:1\"/><path d=\"M 203.148 47.675 A 2 2 0 0 0 200.32 50.503\" stroke-linecap=\"round\" \n",
              "            fill=\"transparent\" fill-opacity=\"0\" style=\"stroke:black;stroke-width:1\"/><path d=\"M 189.713 61.11 A 10 10 0 0 0 203.855 75.252\" stroke-linecap=\"round\" \n",
              "            fill=\"transparent\" fill-opacity=\"0\" style=\"stroke:black;stroke-width:1\"/><path d=\"M 217.29 61.817 A 2 2 0 0 0 214.462 64.645\" stroke-linecap=\"round\" \n",
              "            fill=\"transparent\" fill-opacity=\"0\" style=\"stroke:black;stroke-width:1\"/><path d=\"M 214.462 64.645 A 2 2 0 0 0 217.29 61.817\" stroke-linecap=\"round\" \n",
              "            fill=\"transparent\" fill-opacity=\"0\" style=\"stroke:black;stroke-width:1\"/>\n",
              "        \n",
              "        \n",
              "        <g id=\"classic\" visibility=\"visible\" transform=\"rotate(135.0,-348.3954249492381,-503.86842494923803) translate(-348.3954249492381, -503.86842494923803)\">\n",
              "<polygon points=\"-5,-4.5 0,-2.5 5,-4.5 0,4.5\" transform=\"skewX(0) scale(1,1)\" style=\"stroke:black;fill:black;stroke-width:1\" />\n",
              "</g>\n",
              "      </svg>\n",
              "    "
            ]
          },
          "metadata": {}
        }
      ]
    },
    {
      "cell_type": "markdown",
      "source": [
        "#PRINCESS BUBBLE GUM \n",
        "#FAILED"
      ],
      "metadata": {
        "id": "u-sMyydYBKsL"
      }
    },
    {
      "cell_type": "code",
      "source": [
        "#create and clear screen\n",
        "clearscreen()\n",
        "setup(400,400)\n",
        "\n",
        "#create PB turtle object\n",
        "pb = Turtle()"
      ],
      "metadata": {
        "colab": {
          "base_uri": "https://localhost:8080/",
          "height": 421
        },
        "id": "WnihzTgJCGvg",
        "outputId": "46e685bd-d804-427c-e7de-efcf22a885c7"
      },
      "execution_count": null,
      "outputs": [
        {
          "output_type": "display_data",
          "data": {
            "text/plain": [
              "<IPython.core.display.HTML object>"
            ],
            "text/html": [
              "\n",
              "      <svg width=\"400\" height=\"400\">  \n",
              "        <rect width=\"100%\" height=\"100%\" style=\"fill:white;stroke:;stroke-width:1\"/>\n",
              "        \n",
              "        \n",
              "        \n",
              "        \n",
              "        \n",
              "        <g id=\"classic\" visibility=\"visible\" transform=\"rotate(-90,200.0,200.0) translate(200.0, 200.0)\">\n",
              "<polygon points=\"-5,-4.5 0,-2.5 5,-4.5 0,4.5\" transform=\"skewX(0) scale(1,1)\" style=\"stroke:black;fill:black;stroke-width:1\" />\n",
              "</g><g id=\"classic\" visibility=\"visible\" transform=\"rotate(-90,200.0,200.0) translate(200.0, 200.0)\">\n",
              "<polygon points=\"-5,-4.5 0,-2.5 5,-4.5 0,4.5\" transform=\"skewX(0) scale(1,1)\" style=\"stroke:black;fill:black;stroke-width:1\" />\n",
              "</g>\n",
              "      </svg>\n",
              "    "
            ]
          },
          "metadata": {}
        }
      ]
    },
    {
      "cell_type": "code",
      "source": [
        "def PB_crown(turtle_obj):\n",
        "  \n",
        "  pb.seth(45)\n",
        "  pb.penup()\n",
        "  pb.circle(10,157.5)\n",
        "  pb.pendown()\n",
        "  pb.circle(160,22.5)\n",
        "\n",
        "  pb.circle(160,22.5)\n",
        "  pb.penup()\n",
        "  pb.left(30)\n",
        "  pb.forward(10)\n",
        "  pb.pendown()\n",
        "  pb.right(30)\n",
        "  pb.circle(10,157.5)\n",
        "  pb.circle(160,22.5)\n",
        "  pb.circle(10,157.5)\n",
        "  pb.circle(160,22.5)"
      ],
      "metadata": {
        "id": "WFLgZt3vBKbt"
      },
      "execution_count": null,
      "outputs": []
    },
    {
      "cell_type": "code",
      "source": [
        "PB_crown(pb)"
      ],
      "metadata": {
        "colab": {
          "base_uri": "https://localhost:8080/",
          "height": 421
        },
        "id": "lhxsgSnVDmE_",
        "outputId": "cbe7368d-2620-40da-e392-e05ae56111eb"
      },
      "execution_count": null,
      "outputs": [
        {
          "output_type": "display_data",
          "data": {
            "text/plain": [
              "<IPython.core.display.HTML object>"
            ],
            "text/html": [
              "\n",
              "      <svg width=\"400\" height=\"400\">  \n",
              "        <rect width=\"100%\" height=\"100%\" style=\"fill:white;stroke:;stroke-width:1\"/>\n",
              "        \n",
              "        \n",
              "        <path d=\"M 200.0 200.0 A 5 5 0 0 0 193.687 192.307\" stroke-linecap=\"round\" \n",
              "            fill=\"transparent\" fill-opacity=\"0\" style=\"stroke:black;stroke-width:1\"/><path d=\"M 193.687 192.307 A 320 320 0 0 0 145.195 232.103\" stroke-linecap=\"round\" \n",
              "            fill=\"transparent\" fill-opacity=\"0\" style=\"stroke:black;stroke-width:1\"/><path d=\"M 145.195 232.103 A 5 5 0 0 0 151.508 239.796\" stroke-linecap=\"round\" \n",
              "            fill=\"transparent\" fill-opacity=\"0\" style=\"stroke:black;stroke-width:1\"/><path d=\"M 151.508 239.796 A 320 320 0 0 0 200.0 200.0\" stroke-linecap=\"round\" \n",
              "            fill=\"transparent\" fill-opacity=\"0\" style=\"stroke:black;stroke-width:1\"/><path d=\"M 202.588 190.341 A 5 5 0 0 0 196.275 182.648\" stroke-linecap=\"round\" \n",
              "            fill=\"transparent\" fill-opacity=\"0\" style=\"stroke:black;stroke-width:1\"/><path d=\"M 196.275 182.648 A 320 320 0 0 0 147.783 222.444\" stroke-linecap=\"round\" \n",
              "            fill=\"transparent\" fill-opacity=\"0\" style=\"stroke:black;stroke-width:1\"/><path d=\"M 147.783 222.444 A 5 5 0 0 0 154.096 230.137\" stroke-linecap=\"round\" \n",
              "            fill=\"transparent\" fill-opacity=\"0\" style=\"stroke:black;stroke-width:1\"/><path d=\"M 154.096 230.137 A 320 320 0 0 0 202.588 190.341\" stroke-linecap=\"round\" \n",
              "            fill=\"transparent\" fill-opacity=\"0\" style=\"stroke:black;stroke-width:1\"/><path d=\"M 191.69 174.031 A 160 160 0 0 0 139.782 208.715\" stroke-linecap=\"round\" \n",
              "            fill=\"transparent\" fill-opacity=\"0\" style=\"stroke:black;stroke-width:1\"/><path d=\"M 139.782 208.715 A 160 160 0 0 0 105.098 260.623\" stroke-linecap=\"round\" \n",
              "            fill=\"transparent\" fill-opacity=\"0\" style=\"stroke:black;stroke-width:1\"/><path d=\"M 106.403 270.537 A 10 10 0 0 0 122.713 281.435\" stroke-linecap=\"round\" \n",
              "            fill=\"transparent\" fill-opacity=\"0\" style=\"stroke:black;stroke-width:1\"/><path d=\"M 122.713 281.435 A 160 160 0 0 0 157.397 229.527\" stroke-linecap=\"round\" \n",
              "            fill=\"transparent\" fill-opacity=\"0\" style=\"stroke:black;stroke-width:1\"/><path d=\"M 157.397 229.527 A 10 10 0 0 0 141.087 218.629\" stroke-linecap=\"round\" \n",
              "            fill=\"transparent\" fill-opacity=\"0\" style=\"stroke:black;stroke-width:1\"/><path d=\"M 141.087 218.629 A 160 160 0 0 0 115.66 251.766\" stroke-linecap=\"round\" \n",
              "            fill=\"transparent\" fill-opacity=\"0\" style=\"stroke:black;stroke-width:1\"/><path d=\"M 115.66 251.766 A 160 160 0 0 0 106.403 270.537\" stroke-linecap=\"round\" \n",
              "            fill=\"transparent\" fill-opacity=\"0\" style=\"stroke:black;stroke-width:1\"/>\n",
              "        \n",
              "        \n",
              "        <g id=\"classic\" visibility=\"visible\" transform=\"rotate(22.5,106.403,270.537) translate(106.403, 270.537)\">\n",
              "<polygon points=\"-5,-4.5 0,-2.5 5,-4.5 0,4.5\" transform=\"skewX(0) scale(1,1)\" style=\"stroke:black;fill:black;stroke-width:1\" />\n",
              "</g>\n",
              "      </svg>\n",
              "    "
            ]
          },
          "metadata": {}
        }
      ]
    },
    {
      "cell_type": "markdown",
      "source": [
        "#BMO"
      ],
      "metadata": {
        "id": "y7p7a0oJQMSB"
      }
    },
    {
      "cell_type": "code",
      "source": [
        "#create and clear screen\n",
        "clearscreen()\n",
        "setup(400,400)\n",
        "\n",
        "#create BMO Turtle object\n",
        "bmo = Turtle()"
      ],
      "metadata": {
        "colab": {
          "base_uri": "https://localhost:8080/",
          "height": 421
        },
        "id": "deTh0rZvQBR3",
        "outputId": "0b19a458-493c-4792-d641-4ef9b3bb71b7"
      },
      "execution_count": null,
      "outputs": [
        {
          "output_type": "display_data",
          "data": {
            "text/plain": [
              "<IPython.core.display.HTML object>"
            ],
            "text/html": [
              "\n",
              "      <svg width=\"400\" height=\"400\">  \n",
              "        <rect width=\"100%\" height=\"100%\" style=\"fill:white;stroke:;stroke-width:1\"/>\n",
              "        \n",
              "        \n",
              "        \n",
              "        \n",
              "        \n",
              "        <g id=\"classic\" visibility=\"visible\" transform=\"rotate(-90,200.0,200.0) translate(200.0, 200.0)\">\n",
              "<polygon points=\"-5,-4.5 0,-2.5 5,-4.5 0,4.5\" transform=\"skewX(0) scale(1,1)\" style=\"stroke:black;fill:black;stroke-width:1\" />\n",
              "</g>\n",
              "      </svg>\n",
              "    "
            ]
          },
          "metadata": {}
        }
      ]
    },
    {
      "cell_type": "code",
      "source": [
        "#function to draw BMO's Face\n",
        "def bmo_face(turtle_obj):\n",
        "  #color\n",
        "  bmo.color('darkseagreen')\n",
        "  #move\n",
        "  bmo.up()\n",
        "  bmo.backward(150)\n",
        "  bmo.down()\n",
        "  #face shape\n",
        "  for i in range(4):\n",
        "    bmo.forward(90)\n",
        "    bmo.circle(20, 90)\n"
      ],
      "metadata": {
        "id": "bmHk9dwyQPF4"
      },
      "execution_count": null,
      "outputs": []
    },
    {
      "cell_type": "code",
      "source": [
        "#function to draw BMO's Head\n",
        "\n",
        "def bmo_head(turtle_obj):\n",
        "  #color\n",
        "  bmo.color('darkcyan')\n",
        "  #move\n",
        "  bmo.penup()\n",
        "  bmo.forward(170)\n",
        "  bmo.right(90)\n",
        "  bmo.forward(40)\n",
        "  bmo.pendown()\n",
        "  bmo.left(90)\n",
        "  #head shape\n",
        "  bmo.forward(120)\n",
        "  bmo.circle(20,90)\n",
        "  bmo.forward(170)\n",
        "  bmo.circle(20,90)\n",
        "  bmo.forward(120)\n",
        "  bmo.circle(20,90)\n",
        "  bmo.forward(170)\n",
        "  bmo.circle(20,90)\n"
      ],
      "metadata": {
        "id": "7GXUc2flRt_e"
      },
      "execution_count": null,
      "outputs": []
    },
    {
      "cell_type": "code",
      "source": [
        "#function to draw BMO's Smile\n",
        "\n",
        "def bmo_eyemouth(turtle_obj):\n",
        "  #color\n",
        "  bmo.color('black')\n",
        "  #move\n",
        "  bmo.right(90)\n",
        "  bmo.up()\n",
        "  bmo.forward(100)\n",
        "  bmo.down()\n",
        "  #left eye\n",
        "  bmo.circle(2)\n",
        "  #move\n",
        "  bmo.right(90)\n",
        "  bmo.penup()\n",
        "  bmo.forward(15)\n",
        "  bmo.pendown()\n",
        "  #smile\n",
        "  bmo.circle(10, 180, 30)\n",
        "  bmo.penup()\n",
        "  bmo.forward(19)\n",
        "  bmo.pendown()\n",
        "  bmo.left(90)\n",
        "  #right eye\n",
        "  bmo.circle(2)"
      ],
      "metadata": {
        "id": "NrXCaToSWVh_"
      },
      "execution_count": null,
      "outputs": []
    },
    {
      "cell_type": "code",
      "source": [
        "#function to draw Red Green and Blue Buttons\n",
        "\n",
        "def bmo_buttons(turtle_obj):\n",
        "  #move\n",
        "  bmo.penup()\n",
        "  bmo.right(45)\n",
        "  bmo.forward(60)\n",
        "  bmo.pendown()\n",
        "  #color\n",
        "  bmo.color('crimson')\n",
        "  #Red triangle\n",
        "  for i in range(3):\n",
        "    bmo.forward(17)\n",
        "    bmo.left(120)\n",
        "  #move\n",
        "  bmo.penup()\n",
        "  bmo.backward(25)\n",
        "  bmo.left(180)\n",
        "  #color\n",
        "  bmo.color('mediumaquamarine')\n",
        "  #Green circle\n",
        "  bmo.pendown()\n",
        "  bmo.circle(8)\n",
        "  bmo.penup()\n",
        "  bmo.left(235)\n",
        "  bmo.forward(30)\n",
        "  bmo.pendown()\n",
        "  #color\n",
        "  bmo.color('cornflowerblue')\n",
        "  #Blue circle\n",
        "  bmo.circle(13)"
      ],
      "metadata": {
        "id": "P2x5c-ouW21j"
      },
      "execution_count": null,
      "outputs": []
    },
    {
      "cell_type": "code",
      "source": [
        "#function to draw Golden Arrow Buttons\n",
        "\n",
        "def bmo_arrows(turtle_obj):\n",
        "  #move\n",
        "  bmo.penup()\n",
        "  bmo.forward(180)\n",
        "  bmo.pendown()\n",
        "  #color\n",
        "  bmo.color('gold')\n",
        "  #arrow button\n",
        "  for i in range(4):\n",
        "    bmo.left(90)\n",
        "    bmo.forward(20)\n",
        "    bmo.right(90)\n",
        "    bmo.forward(10)\n",
        "    bmo.right(90)\n",
        "    bmo.forward(20)"
      ],
      "metadata": {
        "id": "PTg2o-n5bJQB"
      },
      "execution_count": null,
      "outputs": []
    },
    {
      "cell_type": "code",
      "source": [
        "#draw BMO's Face\n",
        "bmo_face(bmo)\n"
      ],
      "metadata": {
        "colab": {
          "base_uri": "https://localhost:8080/",
          "height": 421
        },
        "id": "tpjTCi94Q4cB",
        "outputId": "d8c0d7cc-7361-4820-9549-272931ca4078"
      },
      "execution_count": null,
      "outputs": [
        {
          "output_type": "display_data",
          "data": {
            "text/plain": [
              "<IPython.core.display.HTML object>"
            ],
            "text/html": [
              "\n",
              "      <svg width=\"400\" height=\"400\">  \n",
              "        <rect width=\"100%\" height=\"100%\" style=\"fill:white;stroke:;stroke-width:1\"/>\n",
              "        \n",
              "        \n",
              "        <line x1=\"50.0\" y1=\"200.0\" x2=\"140.0\" y2=\"200.0\" stroke-linecap=\"round\" style=\"stroke:darkseagreen;stroke-width:1\" /><path d=\"M 140.0 200.0 A 20 20 0 0 0 160.0 180.0\" stroke-linecap=\"round\" \n",
              "            fill=\"transparent\" fill-opacity=\"0\" style=\"stroke:darkseagreen;stroke-width:1\"/><line x1=\"160.0\" y1=\"180.0\" x2=\"160.0\" y2=\"90.0\" stroke-linecap=\"round\" style=\"stroke:darkseagreen;stroke-width:1\" /><path d=\"M 160.0 90.0 A 20 20 0 0 0 140.0 70.0\" stroke-linecap=\"round\" \n",
              "            fill=\"transparent\" fill-opacity=\"0\" style=\"stroke:darkseagreen;stroke-width:1\"/><line x1=\"140.0\" y1=\"70.0\" x2=\"50.0\" y2=\"70.0\" stroke-linecap=\"round\" style=\"stroke:darkseagreen;stroke-width:1\" /><path d=\"M 50.0 70.0 A 20 20 0 0 0 30.0 90.0\" stroke-linecap=\"round\" \n",
              "            fill=\"transparent\" fill-opacity=\"0\" style=\"stroke:darkseagreen;stroke-width:1\"/><line x1=\"30.0\" y1=\"90.0\" x2=\"30.0\" y2=\"180.0\" stroke-linecap=\"round\" style=\"stroke:darkseagreen;stroke-width:1\" /><path d=\"M 30.0 180.0 A 20 20 0 0 0 30.681 185.176\" stroke-linecap=\"round\" \n",
              "            fill=\"transparent\" fill-opacity=\"0\" style=\"stroke:darkseagreen;stroke-width:1\"/><path d=\"M 30.681 185.176 A 20 20 0 0 0 32.679 190.0\" stroke-linecap=\"round\" \n",
              "            fill=\"transparent\" fill-opacity=\"0\" style=\"stroke:darkseagreen;stroke-width:1\"/><path d=\"M 32.679 190.0 A 20 20 0 0 0 35.857 194.142\" stroke-linecap=\"round\" \n",
              "            fill=\"transparent\" fill-opacity=\"0\" style=\"stroke:darkseagreen;stroke-width:1\"/><path d=\"M 35.857 194.142 A 20 20 0 0 0 39.999 197.32\" stroke-linecap=\"round\" \n",
              "            fill=\"transparent\" fill-opacity=\"0\" style=\"stroke:darkseagreen;stroke-width:1\"/><path d=\"M 39.999 197.32 A 20 20 0 0 0 44.823 199.318\" stroke-linecap=\"round\" \n",
              "            fill=\"transparent\" fill-opacity=\"0\" style=\"stroke:darkseagreen;stroke-width:1\"/><path d=\"M 44.823 199.318 A 20 20 0 0 0 49.999 199.999\" stroke-linecap=\"round\" \n",
              "            fill=\"transparent\" fill-opacity=\"0\" style=\"stroke:darkseagreen;stroke-width:1\"/>\n",
              "        \n",
              "        \n",
              "        <g id=\"classic\" visibility=\"visible\" transform=\"rotate(-90.0,49.999,199.999) translate(49.999, 199.999)\">\n",
              "<polygon points=\"-5,-4.5 0,-2.5 5,-4.5 0,4.5\" transform=\"skewX(0) scale(1,1)\" style=\"stroke:darkseagreen;fill:darkseagreen;stroke-width:1\" />\n",
              "</g>\n",
              "      </svg>\n",
              "    "
            ]
          },
          "metadata": {}
        }
      ]
    },
    {
      "cell_type": "code",
      "source": [
        "#draw BMO's Head\n",
        "bmo_head(bmo)"
      ],
      "metadata": {
        "colab": {
          "base_uri": "https://localhost:8080/",
          "height": 421
        },
        "id": "rSpYbhJBaLMX",
        "outputId": "099365e9-5acc-4066-8def-ead4de981fb2"
      },
      "execution_count": null,
      "outputs": [
        {
          "output_type": "display_data",
          "data": {
            "text/plain": [
              "<IPython.core.display.HTML object>"
            ],
            "text/html": [
              "\n",
              "      <svg width=\"400\" height=\"400\">  \n",
              "        <rect width=\"100%\" height=\"100%\" style=\"fill:white;stroke:;stroke-width:1\"/>\n",
              "        \n",
              "        \n",
              "        <line x1=\"50.0\" y1=\"200.0\" x2=\"140.0\" y2=\"200.0\" stroke-linecap=\"round\" style=\"stroke:darkseagreen;stroke-width:1\" /><path d=\"M 140.0 200.0 A 20 20 0 0 0 160.0 180.0\" stroke-linecap=\"round\" \n",
              "            fill=\"transparent\" fill-opacity=\"0\" style=\"stroke:darkseagreen;stroke-width:1\"/><line x1=\"160.0\" y1=\"180.0\" x2=\"160.0\" y2=\"90.0\" stroke-linecap=\"round\" style=\"stroke:darkseagreen;stroke-width:1\" /><path d=\"M 160.0 90.0 A 20 20 0 0 0 140.0 70.0\" stroke-linecap=\"round\" \n",
              "            fill=\"transparent\" fill-opacity=\"0\" style=\"stroke:darkseagreen;stroke-width:1\"/><line x1=\"140.0\" y1=\"70.0\" x2=\"50.0\" y2=\"70.0\" stroke-linecap=\"round\" style=\"stroke:darkseagreen;stroke-width:1\" /><path d=\"M 50.0 70.0 A 20 20 0 0 0 30.0 90.0\" stroke-linecap=\"round\" \n",
              "            fill=\"transparent\" fill-opacity=\"0\" style=\"stroke:darkseagreen;stroke-width:1\"/><line x1=\"30.0\" y1=\"90.0\" x2=\"30.0\" y2=\"180.0\" stroke-linecap=\"round\" style=\"stroke:darkseagreen;stroke-width:1\" /><path d=\"M 30.0 180.0 A 20 20 0 0 0 50.0 200.0\" stroke-linecap=\"round\" \n",
              "            fill=\"transparent\" fill-opacity=\"0\" style=\"stroke:darkseagreen;stroke-width:1\"/><line x1=\"220.0\" y1=\"240.0\" x2=\"340.0\" y2=\"240.0\" stroke-linecap=\"round\" style=\"stroke:darkcyan;stroke-width:1\" /><path d=\"M 340.0 240.0 A 20 20 0 0 0 360.0 220.0\" stroke-linecap=\"round\" \n",
              "            fill=\"transparent\" fill-opacity=\"0\" style=\"stroke:darkcyan;stroke-width:1\"/><line x1=\"360.0\" y1=\"220.0\" x2=\"360.0\" y2=\"50.0\" stroke-linecap=\"round\" style=\"stroke:darkcyan;stroke-width:1\" /><path d=\"M 360.0 50.0 A 20 20 0 0 0 340.0 30.0\" stroke-linecap=\"round\" \n",
              "            fill=\"transparent\" fill-opacity=\"0\" style=\"stroke:darkcyan;stroke-width:1\"/><line x1=\"340.0\" y1=\"30.0\" x2=\"220.0\" y2=\"30.0\" stroke-linecap=\"round\" style=\"stroke:darkcyan;stroke-width:1\" /><path d=\"M 220.0 30.0 A 20 20 0 0 0 200.0 50.0\" stroke-linecap=\"round\" \n",
              "            fill=\"transparent\" fill-opacity=\"0\" style=\"stroke:darkcyan;stroke-width:1\"/><line x1=\"200.0\" y1=\"50.0\" x2=\"200.0\" y2=\"220.0\" stroke-linecap=\"round\" style=\"stroke:darkcyan;stroke-width:1\" /><path d=\"M 200.0 220.0 A 20 20 0 0 0 200.681 225.176\" stroke-linecap=\"round\" \n",
              "            fill=\"transparent\" fill-opacity=\"0\" style=\"stroke:darkcyan;stroke-width:1\"/><path d=\"M 200.681 225.176 A 20 20 0 0 0 202.679 230.0\" stroke-linecap=\"round\" \n",
              "            fill=\"transparent\" fill-opacity=\"0\" style=\"stroke:darkcyan;stroke-width:1\"/><path d=\"M 202.679 230.0 A 20 20 0 0 0 205.857 234.142\" stroke-linecap=\"round\" \n",
              "            fill=\"transparent\" fill-opacity=\"0\" style=\"stroke:darkcyan;stroke-width:1\"/><path d=\"M 205.857 234.142 A 20 20 0 0 0 209.999 237.32\" stroke-linecap=\"round\" \n",
              "            fill=\"transparent\" fill-opacity=\"0\" style=\"stroke:darkcyan;stroke-width:1\"/><path d=\"M 209.999 237.32 A 20 20 0 0 0 214.823 239.318\" stroke-linecap=\"round\" \n",
              "            fill=\"transparent\" fill-opacity=\"0\" style=\"stroke:darkcyan;stroke-width:1\"/><path d=\"M 214.823 239.318 A 20 20 0 0 0 219.999 239.999\" stroke-linecap=\"round\" \n",
              "            fill=\"transparent\" fill-opacity=\"0\" style=\"stroke:darkcyan;stroke-width:1\"/>\n",
              "        \n",
              "        \n",
              "        <g id=\"classic\" visibility=\"visible\" transform=\"rotate(-90.0,219.999,239.999) translate(219.999, 239.999)\">\n",
              "<polygon points=\"-5,-4.5 0,-2.5 5,-4.5 0,4.5\" transform=\"skewX(0) scale(1,1)\" style=\"stroke:darkcyan;fill:darkcyan;stroke-width:1\" />\n",
              "</g>\n",
              "      </svg>\n",
              "    "
            ]
          },
          "metadata": {}
        }
      ]
    },
    {
      "cell_type": "code",
      "source": [
        "#draw BMO's Smile\n",
        "bmo_eyemouth(bmo)"
      ],
      "metadata": {
        "colab": {
          "base_uri": "https://localhost:8080/",
          "height": 421
        },
        "id": "0SdNG7VYWubh",
        "outputId": "4199eba8-db27-46bb-e557-7b80e42d80ad"
      },
      "execution_count": null,
      "outputs": [
        {
          "output_type": "display_data",
          "data": {
            "text/plain": [
              "<IPython.core.display.HTML object>"
            ],
            "text/html": [
              "\n",
              "      <svg width=\"400\" height=\"400\">  \n",
              "        <rect width=\"100%\" height=\"100%\" style=\"fill:white;stroke:;stroke-width:1\"/>\n",
              "        \n",
              "        \n",
              "        <line x1=\"50.0\" y1=\"200.0\" x2=\"140.0\" y2=\"200.0\" stroke-linecap=\"round\" style=\"stroke:darkseagreen;stroke-width:1\" /><path d=\"M 140.0 200.0 A 20 20 0 0 0 160.0 180.0\" stroke-linecap=\"round\" \n",
              "            fill=\"transparent\" fill-opacity=\"0\" style=\"stroke:darkseagreen;stroke-width:1\"/><line x1=\"160.0\" y1=\"180.0\" x2=\"160.0\" y2=\"90.0\" stroke-linecap=\"round\" style=\"stroke:darkseagreen;stroke-width:1\" /><path d=\"M 160.0 90.0 A 20 20 0 0 0 140.0 70.0\" stroke-linecap=\"round\" \n",
              "            fill=\"transparent\" fill-opacity=\"0\" style=\"stroke:darkseagreen;stroke-width:1\"/><line x1=\"140.0\" y1=\"70.0\" x2=\"50.0\" y2=\"70.0\" stroke-linecap=\"round\" style=\"stroke:darkseagreen;stroke-width:1\" /><path d=\"M 50.0 70.0 A 20 20 0 0 0 30.0 90.0\" stroke-linecap=\"round\" \n",
              "            fill=\"transparent\" fill-opacity=\"0\" style=\"stroke:darkseagreen;stroke-width:1\"/><line x1=\"30.0\" y1=\"90.0\" x2=\"30.0\" y2=\"180.0\" stroke-linecap=\"round\" style=\"stroke:darkseagreen;stroke-width:1\" /><path d=\"M 30.0 180.0 A 20 20 0 0 0 50.0 200.0\" stroke-linecap=\"round\" \n",
              "            fill=\"transparent\" fill-opacity=\"0\" style=\"stroke:darkseagreen;stroke-width:1\"/><line x1=\"220.0\" y1=\"240.0\" x2=\"340.0\" y2=\"240.0\" stroke-linecap=\"round\" style=\"stroke:darkcyan;stroke-width:1\" /><path d=\"M 340.0 240.0 A 20 20 0 0 0 360.0 220.0\" stroke-linecap=\"round\" \n",
              "            fill=\"transparent\" fill-opacity=\"0\" style=\"stroke:darkcyan;stroke-width:1\"/><line x1=\"360.0\" y1=\"220.0\" x2=\"360.0\" y2=\"50.0\" stroke-linecap=\"round\" style=\"stroke:darkcyan;stroke-width:1\" /><path d=\"M 360.0 50.0 A 20 20 0 0 0 340.0 30.0\" stroke-linecap=\"round\" \n",
              "            fill=\"transparent\" fill-opacity=\"0\" style=\"stroke:darkcyan;stroke-width:1\"/><line x1=\"340.0\" y1=\"30.0\" x2=\"220.0\" y2=\"30.0\" stroke-linecap=\"round\" style=\"stroke:darkcyan;stroke-width:1\" /><path d=\"M 220.0 30.0 A 20 20 0 0 0 200.0 50.0\" stroke-linecap=\"round\" \n",
              "            fill=\"transparent\" fill-opacity=\"0\" style=\"stroke:darkcyan;stroke-width:1\"/><line x1=\"200.0\" y1=\"50.0\" x2=\"200.0\" y2=\"220.0\" stroke-linecap=\"round\" style=\"stroke:darkcyan;stroke-width:1\" /><path d=\"M 200.0 220.0 A 20 20 0 0 0 220.0 240.0\" stroke-linecap=\"round\" \n",
              "            fill=\"transparent\" fill-opacity=\"0\" style=\"stroke:darkcyan;stroke-width:1\"/><path d=\"M 220.0 340.0 A 2 2 0 0 0 224.0 340.0\" stroke-linecap=\"round\" \n",
              "            fill=\"transparent\" fill-opacity=\"0\" style=\"stroke:black;stroke-width:1\"/><path d=\"M 224.0 340.0 A 2 2 0 0 0 220.0 340.0\" stroke-linecap=\"round\" \n",
              "            fill=\"transparent\" fill-opacity=\"0\" style=\"stroke:black;stroke-width:1\"/><path d=\"M 205.0 340.0 A 10 10 0 0 0 205.0 360.0\" stroke-linecap=\"round\" \n",
              "            fill=\"transparent\" fill-opacity=\"0\" style=\"stroke:black;stroke-width:1\"/><path d=\"M 224.0 360.0 A 2 2 0 0 0 220.0 360.0\" stroke-linecap=\"round\" \n",
              "            fill=\"transparent\" fill-opacity=\"0\" style=\"stroke:black;stroke-width:1\"/><path d=\"M 220.0 360.0 A 2 2 0 0 0 224.0 360.0\" stroke-linecap=\"round\" \n",
              "            fill=\"transparent\" fill-opacity=\"0\" style=\"stroke:black;stroke-width:1\"/><path d=\"M 324.0 360.0 A 2 2 0 0 0 324.0 356.0\" stroke-linecap=\"round\" \n",
              "            fill=\"transparent\" fill-opacity=\"0\" style=\"stroke:black;stroke-width:1\"/><path d=\"M 324.0 356.0 A 2 2 0 0 0 324.0 360.0\" stroke-linecap=\"round\" \n",
              "            fill=\"transparent\" fill-opacity=\"0\" style=\"stroke:black;stroke-width:1\"/><path d=\"M 324.0 375.0 A 10 10 0 0 0 344.0 375.0\" stroke-linecap=\"round\" \n",
              "            fill=\"transparent\" fill-opacity=\"0\" style=\"stroke:black;stroke-width:1\"/><path d=\"M 344.0 356.0 A 2 2 0 0 0 343.482 356.068\" stroke-linecap=\"round\" \n",
              "            fill=\"transparent\" fill-opacity=\"0\" style=\"stroke:black;stroke-width:1\"/><path d=\"M 343.482 356.068 A 2 2 0 0 0 343.0 356.268\" stroke-linecap=\"round\" \n",
              "            fill=\"transparent\" fill-opacity=\"0\" style=\"stroke:black;stroke-width:1\"/><path d=\"M 343.0 356.268 A 2 2 0 0 0 342.586 356.586\" stroke-linecap=\"round\" \n",
              "            fill=\"transparent\" fill-opacity=\"0\" style=\"stroke:black;stroke-width:1\"/><path d=\"M 342.586 356.586 A 2 2 0 0 0 342.268 357.0\" stroke-linecap=\"round\" \n",
              "            fill=\"transparent\" fill-opacity=\"0\" style=\"stroke:black;stroke-width:1\"/><path d=\"M 342.268 357.0 A 2 2 0 0 0 342.068 357.482\" stroke-linecap=\"round\" \n",
              "            fill=\"transparent\" fill-opacity=\"0\" style=\"stroke:black;stroke-width:1\"/><path d=\"M 342.068 357.482 A 2 2 0 0 0 342.0 358.0\" stroke-linecap=\"round\" \n",
              "            fill=\"transparent\" fill-opacity=\"0\" style=\"stroke:black;stroke-width:1\"/><path d=\"M 342.0 358.0 A 2 2 0 0 0 342.068 358.518\" stroke-linecap=\"round\" \n",
              "            fill=\"transparent\" fill-opacity=\"0\" style=\"stroke:black;stroke-width:1\"/><path d=\"M 342.068 358.518 A 2 2 0 0 0 342.268 359.0\" stroke-linecap=\"round\" \n",
              "            fill=\"transparent\" fill-opacity=\"0\" style=\"stroke:black;stroke-width:1\"/><path d=\"M 342.268 359.0 A 2 2 0 0 0 342.586 359.414\" stroke-linecap=\"round\" \n",
              "            fill=\"transparent\" fill-opacity=\"0\" style=\"stroke:black;stroke-width:1\"/><path d=\"M 342.586 359.414 A 2 2 0 0 0 343.0 359.732\" stroke-linecap=\"round\" \n",
              "            fill=\"transparent\" fill-opacity=\"0\" style=\"stroke:black;stroke-width:1\"/><path d=\"M 343.0 359.732 A 2 2 0 0 0 343.482 359.932\" stroke-linecap=\"round\" \n",
              "            fill=\"transparent\" fill-opacity=\"0\" style=\"stroke:black;stroke-width:1\"/><path d=\"M 343.482 359.932 A 2 2 0 0 0 344.0 360.0\" stroke-linecap=\"round\" \n",
              "            fill=\"transparent\" fill-opacity=\"0\" style=\"stroke:black;stroke-width:1\"/><path d=\"M 344.0 360.0 A 2 2 0 0 0 344.518 359.932\" stroke-linecap=\"round\" \n",
              "            fill=\"transparent\" fill-opacity=\"0\" style=\"stroke:black;stroke-width:1\"/><path d=\"M 344.518 359.932 A 2 2 0 0 0 345.0 359.732\" stroke-linecap=\"round\" \n",
              "            fill=\"transparent\" fill-opacity=\"0\" style=\"stroke:black;stroke-width:1\"/><path d=\"M 345.0 359.732 A 2 2 0 0 0 345.414 359.414\" stroke-linecap=\"round\" \n",
              "            fill=\"transparent\" fill-opacity=\"0\" style=\"stroke:black;stroke-width:1\"/><path d=\"M 345.414 359.414 A 2 2 0 0 0 345.732 359.0\" stroke-linecap=\"round\" \n",
              "            fill=\"transparent\" fill-opacity=\"0\" style=\"stroke:black;stroke-width:1\"/><path d=\"M 345.732 359.0 A 2 2 0 0 0 345.932 358.518\" stroke-linecap=\"round\" \n",
              "            fill=\"transparent\" fill-opacity=\"0\" style=\"stroke:black;stroke-width:1\"/><path d=\"M 345.932 358.518 A 2 2 0 0 0 346.0 358.0\" stroke-linecap=\"round\" \n",
              "            fill=\"transparent\" fill-opacity=\"0\" style=\"stroke:black;stroke-width:1\"/><path d=\"M 346.0 358.0 A 2 2 0 0 0 345.932 357.482\" stroke-linecap=\"round\" \n",
              "            fill=\"transparent\" fill-opacity=\"0\" style=\"stroke:black;stroke-width:1\"/><path d=\"M 345.932 357.482 A 2 2 0 0 0 345.732 357.0\" stroke-linecap=\"round\" \n",
              "            fill=\"transparent\" fill-opacity=\"0\" style=\"stroke:black;stroke-width:1\"/><path d=\"M 345.732 357.0 A 2 2 0 0 0 345.414 356.586\" stroke-linecap=\"round\" \n",
              "            fill=\"transparent\" fill-opacity=\"0\" style=\"stroke:black;stroke-width:1\"/><path d=\"M 345.414 356.586 A 2 2 0 0 0 345.0 356.268\" stroke-linecap=\"round\" \n",
              "            fill=\"transparent\" fill-opacity=\"0\" style=\"stroke:black;stroke-width:1\"/><path d=\"M 345.0 356.268 A 2 2 0 0 0 344.518 356.068\" stroke-linecap=\"round\" \n",
              "            fill=\"transparent\" fill-opacity=\"0\" style=\"stroke:black;stroke-width:1\"/><path d=\"M 344.518 356.068 A 2 2 0 0 0 344.0 356.0\" stroke-linecap=\"round\" \n",
              "            fill=\"transparent\" fill-opacity=\"0\" style=\"stroke:black;stroke-width:1\"/>\n",
              "        \n",
              "        \n",
              "        <g id=\"classic\" visibility=\"visible\" transform=\"rotate(90.0,344.0,356.0) translate(344.0, 356.0)\">\n",
              "<polygon points=\"-5,-4.5 0,-2.5 5,-4.5 0,4.5\" transform=\"skewX(0) scale(1,1)\" style=\"stroke:black;fill:black;stroke-width:1\" />\n",
              "</g>\n",
              "      </svg>\n",
              "    "
            ]
          },
          "metadata": {}
        }
      ]
    },
    {
      "cell_type": "code",
      "source": [
        "#draw Red Green and Blue Buttons\n",
        "bmo_buttons(bmo)"
      ],
      "metadata": {
        "colab": {
          "base_uri": "https://localhost:8080/",
          "height": 421
        },
        "id": "vqxysWHSWyxB",
        "outputId": "b306e6e3-434f-4533-b87c-38a5336570eb"
      },
      "execution_count": null,
      "outputs": [
        {
          "output_type": "display_data",
          "data": {
            "text/plain": [
              "<IPython.core.display.HTML object>"
            ],
            "text/html": [
              "\n",
              "      <svg width=\"400\" height=\"400\">  \n",
              "        <rect width=\"100%\" height=\"100%\" style=\"fill:white;stroke:;stroke-width:1\"/>\n",
              "        \n",
              "        \n",
              "        <line x1=\"50.0\" y1=\"200.0\" x2=\"140.0\" y2=\"200.0\" stroke-linecap=\"round\" style=\"stroke:darkseagreen;stroke-width:1\" /><path d=\"M 140.0 200.0 A 20 20 0 0 0 160.0 180.0\" stroke-linecap=\"round\" \n",
              "            fill=\"transparent\" fill-opacity=\"0\" style=\"stroke:darkseagreen;stroke-width:1\"/><line x1=\"160.0\" y1=\"180.0\" x2=\"160.0\" y2=\"90.0\" stroke-linecap=\"round\" style=\"stroke:darkseagreen;stroke-width:1\" /><path d=\"M 160.0 90.0 A 20 20 0 0 0 140.0 70.0\" stroke-linecap=\"round\" \n",
              "            fill=\"transparent\" fill-opacity=\"0\" style=\"stroke:darkseagreen;stroke-width:1\"/><line x1=\"140.0\" y1=\"70.0\" x2=\"50.0\" y2=\"70.0\" stroke-linecap=\"round\" style=\"stroke:darkseagreen;stroke-width:1\" /><path d=\"M 50.0 70.0 A 20 20 0 0 0 30.0 90.0\" stroke-linecap=\"round\" \n",
              "            fill=\"transparent\" fill-opacity=\"0\" style=\"stroke:darkseagreen;stroke-width:1\"/><line x1=\"30.0\" y1=\"90.0\" x2=\"30.0\" y2=\"180.0\" stroke-linecap=\"round\" style=\"stroke:darkseagreen;stroke-width:1\" /><path d=\"M 30.0 180.0 A 20 20 0 0 0 50.0 200.0\" stroke-linecap=\"round\" \n",
              "            fill=\"transparent\" fill-opacity=\"0\" style=\"stroke:darkseagreen;stroke-width:1\"/><line x1=\"220.0\" y1=\"240.0\" x2=\"340.0\" y2=\"240.0\" stroke-linecap=\"round\" style=\"stroke:darkcyan;stroke-width:1\" /><path d=\"M 340.0 240.0 A 20 20 0 0 0 360.0 220.0\" stroke-linecap=\"round\" \n",
              "            fill=\"transparent\" fill-opacity=\"0\" style=\"stroke:darkcyan;stroke-width:1\"/><line x1=\"360.0\" y1=\"220.0\" x2=\"360.0\" y2=\"50.0\" stroke-linecap=\"round\" style=\"stroke:darkcyan;stroke-width:1\" /><path d=\"M 360.0 50.0 A 20 20 0 0 0 340.0 30.0\" stroke-linecap=\"round\" \n",
              "            fill=\"transparent\" fill-opacity=\"0\" style=\"stroke:darkcyan;stroke-width:1\"/><line x1=\"340.0\" y1=\"30.0\" x2=\"220.0\" y2=\"30.0\" stroke-linecap=\"round\" style=\"stroke:darkcyan;stroke-width:1\" /><path d=\"M 220.0 30.0 A 20 20 0 0 0 200.0 50.0\" stroke-linecap=\"round\" \n",
              "            fill=\"transparent\" fill-opacity=\"0\" style=\"stroke:darkcyan;stroke-width:1\"/><line x1=\"200.0\" y1=\"50.0\" x2=\"200.0\" y2=\"220.0\" stroke-linecap=\"round\" style=\"stroke:darkcyan;stroke-width:1\" /><path d=\"M 200.0 220.0 A 20 20 0 0 0 220.0 240.0\" stroke-linecap=\"round\" \n",
              "            fill=\"transparent\" fill-opacity=\"0\" style=\"stroke:darkcyan;stroke-width:1\"/><path d=\"M 220.0 340.0 A 2 2 0 0 0 224.0 340.0\" stroke-linecap=\"round\" \n",
              "            fill=\"transparent\" fill-opacity=\"0\" style=\"stroke:black;stroke-width:1\"/><path d=\"M 224.0 340.0 A 2 2 0 0 0 220.0 340.0\" stroke-linecap=\"round\" \n",
              "            fill=\"transparent\" fill-opacity=\"0\" style=\"stroke:black;stroke-width:1\"/><path d=\"M 205.0 340.0 A 10 10 0 0 0 205.0 360.0\" stroke-linecap=\"round\" \n",
              "            fill=\"transparent\" fill-opacity=\"0\" style=\"stroke:black;stroke-width:1\"/><path d=\"M 224.0 360.0 A 2 2 0 0 0 220.0 360.0\" stroke-linecap=\"round\" \n",
              "            fill=\"transparent\" fill-opacity=\"0\" style=\"stroke:black;stroke-width:1\"/><path d=\"M 220.0 360.0 A 2 2 0 0 0 224.0 360.0\" stroke-linecap=\"round\" \n",
              "            fill=\"transparent\" fill-opacity=\"0\" style=\"stroke:black;stroke-width:1\"/><path d=\"M 324.0 360.0 A 2 2 0 0 0 324.0 356.0\" stroke-linecap=\"round\" \n",
              "            fill=\"transparent\" fill-opacity=\"0\" style=\"stroke:black;stroke-width:1\"/><path d=\"M 324.0 356.0 A 2 2 0 0 0 324.0 360.0\" stroke-linecap=\"round\" \n",
              "            fill=\"transparent\" fill-opacity=\"0\" style=\"stroke:black;stroke-width:1\"/><path d=\"M 324.0 375.0 A 10 10 0 0 0 344.0 375.0\" stroke-linecap=\"round\" \n",
              "            fill=\"transparent\" fill-opacity=\"0\" style=\"stroke:black;stroke-width:1\"/><path d=\"M 344.0 356.0 A 2 2 0 0 0 344.0 360.0\" stroke-linecap=\"round\" \n",
              "            fill=\"transparent\" fill-opacity=\"0\" style=\"stroke:black;stroke-width:1\"/><path d=\"M 344.0 360.0 A 2 2 0 0 0 344.0 356.0\" stroke-linecap=\"round\" \n",
              "            fill=\"transparent\" fill-opacity=\"0\" style=\"stroke:black;stroke-width:1\"/><line x1=\"301.574\" y1=\"313.574\" x2=\"289.553\" y2=\"301.553\" stroke-linecap=\"round\" style=\"stroke:crimson;stroke-width:1\" /><line x1=\"289.553\" y1=\"301.553\" x2=\"285.153\" y2=\"317.974\" stroke-linecap=\"round\" style=\"stroke:crimson;stroke-width:1\" /><line x1=\"285.153\" y1=\"317.974\" x2=\"301.574\" y2=\"313.574\" stroke-linecap=\"round\" style=\"stroke:crimson;stroke-width:1\" /><path d=\"M 319.252 331.252 A 8 8 0 0 0 330.566 319.938\" stroke-linecap=\"round\" \n",
              "            fill=\"transparent\" fill-opacity=\"0\" style=\"stroke:mediumaquamarine;stroke-width:1\"/><path d=\"M 330.566 319.938 A 8 8 0 0 0 319.252 331.252\" stroke-linecap=\"round\" \n",
              "            fill=\"transparent\" fill-opacity=\"0\" style=\"stroke:mediumaquamarine;stroke-width:1\"/><path d=\"M 289.708 336.461 A 13 13 0 0 0 286.471 337.481\" stroke-linecap=\"round\" \n",
              "            fill=\"transparent\" fill-opacity=\"0\" style=\"stroke:cornflowerblue;stroke-width:1\"/><path d=\"M 286.471 337.481 A 13 13 0 0 0 283.609 339.304\" stroke-linecap=\"round\" \n",
              "            fill=\"transparent\" fill-opacity=\"0\" style=\"stroke:cornflowerblue;stroke-width:1\"/><path d=\"M 283.609 339.304 A 13 13 0 0 0 281.316 341.806\" stroke-linecap=\"round\" \n",
              "            fill=\"transparent\" fill-opacity=\"0\" style=\"stroke:cornflowerblue;stroke-width:1\"/><path d=\"M 281.316 341.806 A 13 13 0 0 0 279.749 344.816\" stroke-linecap=\"round\" \n",
              "            fill=\"transparent\" fill-opacity=\"0\" style=\"stroke:cornflowerblue;stroke-width:1\"/><path d=\"M 279.749 344.816 A 13 13 0 0 0 279.014 348.129\" stroke-linecap=\"round\" \n",
              "            fill=\"transparent\" fill-opacity=\"0\" style=\"stroke:cornflowerblue;stroke-width:1\"/><path d=\"M 279.014 348.129 A 13 13 0 0 0 279.162 351.519\" stroke-linecap=\"round\" \n",
              "            fill=\"transparent\" fill-opacity=\"0\" style=\"stroke:cornflowerblue;stroke-width:1\"/><path d=\"M 279.162 351.519 A 13 13 0 0 0 280.182 354.756\" stroke-linecap=\"round\" \n",
              "            fill=\"transparent\" fill-opacity=\"0\" style=\"stroke:cornflowerblue;stroke-width:1\"/><path d=\"M 280.182 354.756 A 13 13 0 0 0 282.005 357.618\" stroke-linecap=\"round\" \n",
              "            fill=\"transparent\" fill-opacity=\"0\" style=\"stroke:cornflowerblue;stroke-width:1\"/><path d=\"M 282.005 357.618 A 13 13 0 0 0 284.507 359.911\" stroke-linecap=\"round\" \n",
              "            fill=\"transparent\" fill-opacity=\"0\" style=\"stroke:cornflowerblue;stroke-width:1\"/><path d=\"M 284.507 359.911 A 13 13 0 0 0 287.517 361.478\" stroke-linecap=\"round\" \n",
              "            fill=\"transparent\" fill-opacity=\"0\" style=\"stroke:cornflowerblue;stroke-width:1\"/><path d=\"M 287.517 361.478 A 13 13 0 0 0 290.83 362.213\" stroke-linecap=\"round\" \n",
              "            fill=\"transparent\" fill-opacity=\"0\" style=\"stroke:cornflowerblue;stroke-width:1\"/><path d=\"M 290.83 362.213 A 13 13 0 0 0 294.22 362.065\" stroke-linecap=\"round\" \n",
              "            fill=\"transparent\" fill-opacity=\"0\" style=\"stroke:cornflowerblue;stroke-width:1\"/><path d=\"M 294.22 362.065 A 13 13 0 0 0 297.457 361.045\" stroke-linecap=\"round\" \n",
              "            fill=\"transparent\" fill-opacity=\"0\" style=\"stroke:cornflowerblue;stroke-width:1\"/><path d=\"M 297.457 361.045 A 13 13 0 0 0 300.319 359.222\" stroke-linecap=\"round\" \n",
              "            fill=\"transparent\" fill-opacity=\"0\" style=\"stroke:cornflowerblue;stroke-width:1\"/><path d=\"M 300.319 359.222 A 13 13 0 0 0 302.612 356.72\" stroke-linecap=\"round\" \n",
              "            fill=\"transparent\" fill-opacity=\"0\" style=\"stroke:cornflowerblue;stroke-width:1\"/><path d=\"M 302.612 356.72 A 13 13 0 0 0 304.179 353.71\" stroke-linecap=\"round\" \n",
              "            fill=\"transparent\" fill-opacity=\"0\" style=\"stroke:cornflowerblue;stroke-width:1\"/><path d=\"M 304.179 353.71 A 13 13 0 0 0 304.914 350.397\" stroke-linecap=\"round\" \n",
              "            fill=\"transparent\" fill-opacity=\"0\" style=\"stroke:cornflowerblue;stroke-width:1\"/><path d=\"M 304.914 350.397 A 13 13 0 0 0 304.766 347.007\" stroke-linecap=\"round\" \n",
              "            fill=\"transparent\" fill-opacity=\"0\" style=\"stroke:cornflowerblue;stroke-width:1\"/><path d=\"M 304.766 347.007 A 13 13 0 0 0 303.746 343.77\" stroke-linecap=\"round\" \n",
              "            fill=\"transparent\" fill-opacity=\"0\" style=\"stroke:cornflowerblue;stroke-width:1\"/><path d=\"M 303.746 343.77 A 13 13 0 0 0 301.923 340.908\" stroke-linecap=\"round\" \n",
              "            fill=\"transparent\" fill-opacity=\"0\" style=\"stroke:cornflowerblue;stroke-width:1\"/><path d=\"M 301.923 340.908 A 13 13 0 0 0 299.421 338.615\" stroke-linecap=\"round\" \n",
              "            fill=\"transparent\" fill-opacity=\"0\" style=\"stroke:cornflowerblue;stroke-width:1\"/><path d=\"M 299.421 338.615 A 13 13 0 0 0 296.411 337.048\" stroke-linecap=\"round\" \n",
              "            fill=\"transparent\" fill-opacity=\"0\" style=\"stroke:cornflowerblue;stroke-width:1\"/><path d=\"M 296.411 337.048 A 13 13 0 0 0 293.098 336.313\" stroke-linecap=\"round\" \n",
              "            fill=\"transparent\" fill-opacity=\"0\" style=\"stroke:cornflowerblue;stroke-width:1\"/><path d=\"M 293.098 336.313 A 13 13 0 0 0 289.708 336.461\" stroke-linecap=\"round\" \n",
              "            fill=\"transparent\" fill-opacity=\"0\" style=\"stroke:cornflowerblue;stroke-width:1\"/>\n",
              "        \n",
              "        \n",
              "        <g id=\"classic\" visibility=\"visible\" transform=\"rotate(80.0,289.708,336.461) translate(289.708, 336.461)\">\n",
              "<polygon points=\"-5,-4.5 0,-2.5 5,-4.5 0,4.5\" transform=\"skewX(0) scale(1,1)\" style=\"stroke:cornflowerblue;fill:cornflowerblue;stroke-width:1\" />\n",
              "</g>\n",
              "      </svg>\n",
              "    "
            ]
          },
          "metadata": {}
        }
      ]
    },
    {
      "cell_type": "code",
      "source": [
        "#draw Golden Arrow Buttons\n",
        "bmo_arrows(bmo)"
      ],
      "metadata": {
        "colab": {
          "base_uri": "https://localhost:8080/",
          "height": 421
        },
        "id": "ry5lFTEpawxh",
        "outputId": "fe58282d-2968-436a-b3bd-0599b76e3645"
      },
      "execution_count": null,
      "outputs": [
        {
          "output_type": "display_data",
          "data": {
            "text/plain": [
              "<IPython.core.display.HTML object>"
            ],
            "text/html": [
              "\n",
              "      <svg width=\"400\" height=\"400\">  \n",
              "        <rect width=\"100%\" height=\"100%\" style=\"fill:white;stroke:;stroke-width:1\"/>\n",
              "        \n",
              "        \n",
              "        <line x1=\"50.0\" y1=\"200.0\" x2=\"140.0\" y2=\"200.0\" stroke-linecap=\"round\" style=\"stroke:darkseagreen;stroke-width:1\" /><path d=\"M 140.0 200.0 A 20 20 0 0 0 160.0 180.0\" stroke-linecap=\"round\" \n",
              "            fill=\"transparent\" fill-opacity=\"0\" style=\"stroke:darkseagreen;stroke-width:1\"/><line x1=\"160.0\" y1=\"180.0\" x2=\"160.0\" y2=\"90.0\" stroke-linecap=\"round\" style=\"stroke:darkseagreen;stroke-width:1\" /><path d=\"M 160.0 90.0 A 20 20 0 0 0 140.0 70.0\" stroke-linecap=\"round\" \n",
              "            fill=\"transparent\" fill-opacity=\"0\" style=\"stroke:darkseagreen;stroke-width:1\"/><line x1=\"140.0\" y1=\"70.0\" x2=\"50.0\" y2=\"70.0\" stroke-linecap=\"round\" style=\"stroke:darkseagreen;stroke-width:1\" /><path d=\"M 50.0 70.0 A 20 20 0 0 0 30.0 90.0\" stroke-linecap=\"round\" \n",
              "            fill=\"transparent\" fill-opacity=\"0\" style=\"stroke:darkseagreen;stroke-width:1\"/><line x1=\"30.0\" y1=\"90.0\" x2=\"30.0\" y2=\"180.0\" stroke-linecap=\"round\" style=\"stroke:darkseagreen;stroke-width:1\" /><path d=\"M 30.0 180.0 A 20 20 0 0 0 50.0 200.0\" stroke-linecap=\"round\" \n",
              "            fill=\"transparent\" fill-opacity=\"0\" style=\"stroke:darkseagreen;stroke-width:1\"/><line x1=\"220.0\" y1=\"240.0\" x2=\"340.0\" y2=\"240.0\" stroke-linecap=\"round\" style=\"stroke:darkcyan;stroke-width:1\" /><path d=\"M 340.0 240.0 A 20 20 0 0 0 360.0 220.0\" stroke-linecap=\"round\" \n",
              "            fill=\"transparent\" fill-opacity=\"0\" style=\"stroke:darkcyan;stroke-width:1\"/><line x1=\"360.0\" y1=\"220.0\" x2=\"360.0\" y2=\"50.0\" stroke-linecap=\"round\" style=\"stroke:darkcyan;stroke-width:1\" /><path d=\"M 360.0 50.0 A 20 20 0 0 0 340.0 30.0\" stroke-linecap=\"round\" \n",
              "            fill=\"transparent\" fill-opacity=\"0\" style=\"stroke:darkcyan;stroke-width:1\"/><line x1=\"340.0\" y1=\"30.0\" x2=\"220.0\" y2=\"30.0\" stroke-linecap=\"round\" style=\"stroke:darkcyan;stroke-width:1\" /><path d=\"M 220.0 30.0 A 20 20 0 0 0 200.0 50.0\" stroke-linecap=\"round\" \n",
              "            fill=\"transparent\" fill-opacity=\"0\" style=\"stroke:darkcyan;stroke-width:1\"/><line x1=\"200.0\" y1=\"50.0\" x2=\"200.0\" y2=\"220.0\" stroke-linecap=\"round\" style=\"stroke:darkcyan;stroke-width:1\" /><path d=\"M 200.0 220.0 A 20 20 0 0 0 220.0 240.0\" stroke-linecap=\"round\" \n",
              "            fill=\"transparent\" fill-opacity=\"0\" style=\"stroke:darkcyan;stroke-width:1\"/><path d=\"M 220.0 340.0 A 2 2 0 0 0 224.0 340.0\" stroke-linecap=\"round\" \n",
              "            fill=\"transparent\" fill-opacity=\"0\" style=\"stroke:black;stroke-width:1\"/><path d=\"M 224.0 340.0 A 2 2 0 0 0 220.0 340.0\" stroke-linecap=\"round\" \n",
              "            fill=\"transparent\" fill-opacity=\"0\" style=\"stroke:black;stroke-width:1\"/><path d=\"M 205.0 340.0 A 10 10 0 0 0 205.0 360.0\" stroke-linecap=\"round\" \n",
              "            fill=\"transparent\" fill-opacity=\"0\" style=\"stroke:black;stroke-width:1\"/><path d=\"M 224.0 360.0 A 2 2 0 0 0 220.0 360.0\" stroke-linecap=\"round\" \n",
              "            fill=\"transparent\" fill-opacity=\"0\" style=\"stroke:black;stroke-width:1\"/><path d=\"M 220.0 360.0 A 2 2 0 0 0 224.0 360.0\" stroke-linecap=\"round\" \n",
              "            fill=\"transparent\" fill-opacity=\"0\" style=\"stroke:black;stroke-width:1\"/><path d=\"M 324.0 360.0 A 2 2 0 0 0 324.0 356.0\" stroke-linecap=\"round\" \n",
              "            fill=\"transparent\" fill-opacity=\"0\" style=\"stroke:black;stroke-width:1\"/><path d=\"M 324.0 356.0 A 2 2 0 0 0 324.0 360.0\" stroke-linecap=\"round\" \n",
              "            fill=\"transparent\" fill-opacity=\"0\" style=\"stroke:black;stroke-width:1\"/><path d=\"M 324.0 375.0 A 10 10 0 0 0 344.0 375.0\" stroke-linecap=\"round\" \n",
              "            fill=\"transparent\" fill-opacity=\"0\" style=\"stroke:black;stroke-width:1\"/><path d=\"M 344.0 356.0 A 2 2 0 0 0 344.0 360.0\" stroke-linecap=\"round\" \n",
              "            fill=\"transparent\" fill-opacity=\"0\" style=\"stroke:black;stroke-width:1\"/><path d=\"M 344.0 360.0 A 2 2 0 0 0 344.0 356.0\" stroke-linecap=\"round\" \n",
              "            fill=\"transparent\" fill-opacity=\"0\" style=\"stroke:black;stroke-width:1\"/><line x1=\"301.574\" y1=\"313.574\" x2=\"289.553\" y2=\"301.553\" stroke-linecap=\"round\" style=\"stroke:crimson;stroke-width:1\" /><line x1=\"289.553\" y1=\"301.553\" x2=\"285.153\" y2=\"317.974\" stroke-linecap=\"round\" style=\"stroke:crimson;stroke-width:1\" /><line x1=\"285.153\" y1=\"317.974\" x2=\"301.574\" y2=\"313.574\" stroke-linecap=\"round\" style=\"stroke:crimson;stroke-width:1\" /><path d=\"M 319.252 331.252 A 8 8 0 0 0 330.566 319.938\" stroke-linecap=\"round\" \n",
              "            fill=\"transparent\" fill-opacity=\"0\" style=\"stroke:mediumaquamarine;stroke-width:1\"/><path d=\"M 330.566 319.938 A 8 8 0 0 0 319.252 331.252\" stroke-linecap=\"round\" \n",
              "            fill=\"transparent\" fill-opacity=\"0\" style=\"stroke:mediumaquamarine;stroke-width:1\"/><path d=\"M 289.708 336.461 A 13 13 0 0 0 294.223 362.066\" stroke-linecap=\"round\" \n",
              "            fill=\"transparent\" fill-opacity=\"0\" style=\"stroke:cornflowerblue;stroke-width:1\"/><path d=\"M 294.223 362.066 A 13 13 0 0 0 289.708 336.461\" stroke-linecap=\"round\" \n",
              "            fill=\"transparent\" fill-opacity=\"0\" style=\"stroke:cornflowerblue;stroke-width:1\"/><line x1=\"112.443\" y1=\"367.718\" x2=\"115.916\" y2=\"387.414\" stroke-linecap=\"round\" style=\"stroke:gold;stroke-width:1\" /><line x1=\"115.916\" y1=\"387.414\" x2=\"106.068\" y2=\"389.15\" stroke-linecap=\"round\" style=\"stroke:gold;stroke-width:1\" /><line x1=\"106.068\" y1=\"389.15\" x2=\"102.595\" y2=\"369.454\" stroke-linecap=\"round\" style=\"stroke:gold;stroke-width:1\" /><line x1=\"102.595\" y1=\"369.454\" x2=\"82.899\" y2=\"372.927\" stroke-linecap=\"round\" style=\"stroke:gold;stroke-width:1\" /><line x1=\"82.899\" y1=\"372.927\" x2=\"81.163\" y2=\"363.079\" stroke-linecap=\"round\" style=\"stroke:gold;stroke-width:1\" /><line x1=\"81.163\" y1=\"363.079\" x2=\"100.859\" y2=\"359.606\" stroke-linecap=\"round\" style=\"stroke:gold;stroke-width:1\" /><line x1=\"100.859\" y1=\"359.606\" x2=\"97.386\" y2=\"339.91\" stroke-linecap=\"round\" style=\"stroke:gold;stroke-width:1\" /><line x1=\"97.386\" y1=\"339.91\" x2=\"107.234\" y2=\"338.174\" stroke-linecap=\"round\" style=\"stroke:gold;stroke-width:1\" /><line x1=\"107.234\" y1=\"338.174\" x2=\"110.707\" y2=\"357.87\" stroke-linecap=\"round\" style=\"stroke:gold;stroke-width:1\" /><line x1=\"110.707\" y1=\"357.87\" x2=\"130.403\" y2=\"354.397\" stroke-linecap=\"round\" style=\"stroke:gold;stroke-width:1\" /><line x1=\"130.403\" y1=\"354.397\" x2=\"132.139\" y2=\"364.245\" stroke-linecap=\"round\" style=\"stroke:gold;stroke-width:1\" /><line x1=\"132.139\" y1=\"364.245\" x2=\"122.29092246987793\" y2=\"365.9814817766693\" stroke-linecap=\"round\" style=\"stroke:gold;stroke-width:1\" /><line x1=\"122.29092246987793\" y1=\"365.9814817766693\" x2=\"112.44284493975584\" y2=\"367.71796355333856\" stroke-linecap=\"round\" style=\"stroke:gold;stroke-width:1\" />\n",
              "        \n",
              "        \n",
              "        <g id=\"classic\" visibility=\"visible\" transform=\"rotate(80.0,112.44284493975584,367.71796355333856) translate(112.44284493975584, 367.71796355333856)\">\n",
              "<polygon points=\"-5,-4.5 0,-2.5 5,-4.5 0,4.5\" transform=\"skewX(0) scale(1,1)\" style=\"stroke:gold;fill:gold;stroke-width:1\" />\n",
              "</g>\n",
              "      </svg>\n",
              "    "
            ]
          },
          "metadata": {}
        }
      ]
    },
    {
      "cell_type": "code",
      "source": [
        "#get rid of the pen\n",
        "bmo.penup()\n",
        "bmo.forward(400)"
      ],
      "metadata": {
        "colab": {
          "base_uri": "https://localhost:8080/",
          "height": 421
        },
        "id": "Ob-eV7nVcBvv",
        "outputId": "9f8c4918-3dcd-4a50-af08-531f2db166ee"
      },
      "execution_count": null,
      "outputs": [
        {
          "output_type": "display_data",
          "data": {
            "text/plain": [
              "<IPython.core.display.HTML object>"
            ],
            "text/html": [
              "\n",
              "      <svg width=\"400\" height=\"400\">  \n",
              "        <rect width=\"100%\" height=\"100%\" style=\"fill:white;stroke:;stroke-width:1\"/>\n",
              "        \n",
              "        \n",
              "        <line x1=\"50.0\" y1=\"200.0\" x2=\"140.0\" y2=\"200.0\" stroke-linecap=\"round\" style=\"stroke:darkseagreen;stroke-width:1\" /><path d=\"M 140.0 200.0 A 20 20 0 0 0 160.0 180.0\" stroke-linecap=\"round\" \n",
              "            fill=\"transparent\" fill-opacity=\"0\" style=\"stroke:darkseagreen;stroke-width:1\"/><line x1=\"160.0\" y1=\"180.0\" x2=\"160.0\" y2=\"90.0\" stroke-linecap=\"round\" style=\"stroke:darkseagreen;stroke-width:1\" /><path d=\"M 160.0 90.0 A 20 20 0 0 0 140.0 70.0\" stroke-linecap=\"round\" \n",
              "            fill=\"transparent\" fill-opacity=\"0\" style=\"stroke:darkseagreen;stroke-width:1\"/><line x1=\"140.0\" y1=\"70.0\" x2=\"50.0\" y2=\"70.0\" stroke-linecap=\"round\" style=\"stroke:darkseagreen;stroke-width:1\" /><path d=\"M 50.0 70.0 A 20 20 0 0 0 30.0 90.0\" stroke-linecap=\"round\" \n",
              "            fill=\"transparent\" fill-opacity=\"0\" style=\"stroke:darkseagreen;stroke-width:1\"/><line x1=\"30.0\" y1=\"90.0\" x2=\"30.0\" y2=\"180.0\" stroke-linecap=\"round\" style=\"stroke:darkseagreen;stroke-width:1\" /><path d=\"M 30.0 180.0 A 20 20 0 0 0 50.0 200.0\" stroke-linecap=\"round\" \n",
              "            fill=\"transparent\" fill-opacity=\"0\" style=\"stroke:darkseagreen;stroke-width:1\"/><line x1=\"220.0\" y1=\"240.0\" x2=\"340.0\" y2=\"240.0\" stroke-linecap=\"round\" style=\"stroke:darkcyan;stroke-width:1\" /><path d=\"M 340.0 240.0 A 20 20 0 0 0 360.0 220.0\" stroke-linecap=\"round\" \n",
              "            fill=\"transparent\" fill-opacity=\"0\" style=\"stroke:darkcyan;stroke-width:1\"/><line x1=\"360.0\" y1=\"220.0\" x2=\"360.0\" y2=\"50.0\" stroke-linecap=\"round\" style=\"stroke:darkcyan;stroke-width:1\" /><path d=\"M 360.0 50.0 A 20 20 0 0 0 340.0 30.0\" stroke-linecap=\"round\" \n",
              "            fill=\"transparent\" fill-opacity=\"0\" style=\"stroke:darkcyan;stroke-width:1\"/><line x1=\"340.0\" y1=\"30.0\" x2=\"220.0\" y2=\"30.0\" stroke-linecap=\"round\" style=\"stroke:darkcyan;stroke-width:1\" /><path d=\"M 220.0 30.0 A 20 20 0 0 0 200.0 50.0\" stroke-linecap=\"round\" \n",
              "            fill=\"transparent\" fill-opacity=\"0\" style=\"stroke:darkcyan;stroke-width:1\"/><line x1=\"200.0\" y1=\"50.0\" x2=\"200.0\" y2=\"220.0\" stroke-linecap=\"round\" style=\"stroke:darkcyan;stroke-width:1\" /><path d=\"M 200.0 220.0 A 20 20 0 0 0 220.0 240.0\" stroke-linecap=\"round\" \n",
              "            fill=\"transparent\" fill-opacity=\"0\" style=\"stroke:darkcyan;stroke-width:1\"/><path d=\"M 220.0 340.0 A 2 2 0 0 0 224.0 340.0\" stroke-linecap=\"round\" \n",
              "            fill=\"transparent\" fill-opacity=\"0\" style=\"stroke:black;stroke-width:1\"/><path d=\"M 224.0 340.0 A 2 2 0 0 0 220.0 340.0\" stroke-linecap=\"round\" \n",
              "            fill=\"transparent\" fill-opacity=\"0\" style=\"stroke:black;stroke-width:1\"/><path d=\"M 205.0 340.0 A 10 10 0 0 0 205.0 360.0\" stroke-linecap=\"round\" \n",
              "            fill=\"transparent\" fill-opacity=\"0\" style=\"stroke:black;stroke-width:1\"/><path d=\"M 224.0 360.0 A 2 2 0 0 0 220.0 360.0\" stroke-linecap=\"round\" \n",
              "            fill=\"transparent\" fill-opacity=\"0\" style=\"stroke:black;stroke-width:1\"/><path d=\"M 220.0 360.0 A 2 2 0 0 0 224.0 360.0\" stroke-linecap=\"round\" \n",
              "            fill=\"transparent\" fill-opacity=\"0\" style=\"stroke:black;stroke-width:1\"/><path d=\"M 324.0 360.0 A 2 2 0 0 0 324.0 356.0\" stroke-linecap=\"round\" \n",
              "            fill=\"transparent\" fill-opacity=\"0\" style=\"stroke:black;stroke-width:1\"/><path d=\"M 324.0 356.0 A 2 2 0 0 0 324.0 360.0\" stroke-linecap=\"round\" \n",
              "            fill=\"transparent\" fill-opacity=\"0\" style=\"stroke:black;stroke-width:1\"/><path d=\"M 324.0 375.0 A 10 10 0 0 0 344.0 375.0\" stroke-linecap=\"round\" \n",
              "            fill=\"transparent\" fill-opacity=\"0\" style=\"stroke:black;stroke-width:1\"/><path d=\"M 344.0 356.0 A 2 2 0 0 0 344.0 360.0\" stroke-linecap=\"round\" \n",
              "            fill=\"transparent\" fill-opacity=\"0\" style=\"stroke:black;stroke-width:1\"/><path d=\"M 344.0 360.0 A 2 2 0 0 0 344.0 356.0\" stroke-linecap=\"round\" \n",
              "            fill=\"transparent\" fill-opacity=\"0\" style=\"stroke:black;stroke-width:1\"/><line x1=\"301.574\" y1=\"313.574\" x2=\"289.553\" y2=\"301.553\" stroke-linecap=\"round\" style=\"stroke:crimson;stroke-width:1\" /><line x1=\"289.553\" y1=\"301.553\" x2=\"285.153\" y2=\"317.974\" stroke-linecap=\"round\" style=\"stroke:crimson;stroke-width:1\" /><line x1=\"285.153\" y1=\"317.974\" x2=\"301.574\" y2=\"313.574\" stroke-linecap=\"round\" style=\"stroke:crimson;stroke-width:1\" /><path d=\"M 319.252 331.252 A 8 8 0 0 0 330.566 319.938\" stroke-linecap=\"round\" \n",
              "            fill=\"transparent\" fill-opacity=\"0\" style=\"stroke:mediumaquamarine;stroke-width:1\"/><path d=\"M 330.566 319.938 A 8 8 0 0 0 319.252 331.252\" stroke-linecap=\"round\" \n",
              "            fill=\"transparent\" fill-opacity=\"0\" style=\"stroke:mediumaquamarine;stroke-width:1\"/><path d=\"M 289.708 336.461 A 13 13 0 0 0 294.223 362.066\" stroke-linecap=\"round\" \n",
              "            fill=\"transparent\" fill-opacity=\"0\" style=\"stroke:cornflowerblue;stroke-width:1\"/><path d=\"M 294.223 362.066 A 13 13 0 0 0 289.708 336.461\" stroke-linecap=\"round\" \n",
              "            fill=\"transparent\" fill-opacity=\"0\" style=\"stroke:cornflowerblue;stroke-width:1\"/><line x1=\"112.443\" y1=\"367.718\" x2=\"115.916\" y2=\"387.414\" stroke-linecap=\"round\" style=\"stroke:gold;stroke-width:1\" /><line x1=\"115.916\" y1=\"387.414\" x2=\"106.068\" y2=\"389.15\" stroke-linecap=\"round\" style=\"stroke:gold;stroke-width:1\" /><line x1=\"106.068\" y1=\"389.15\" x2=\"102.595\" y2=\"369.454\" stroke-linecap=\"round\" style=\"stroke:gold;stroke-width:1\" /><line x1=\"102.595\" y1=\"369.454\" x2=\"82.899\" y2=\"372.927\" stroke-linecap=\"round\" style=\"stroke:gold;stroke-width:1\" /><line x1=\"82.899\" y1=\"372.927\" x2=\"81.163\" y2=\"363.079\" stroke-linecap=\"round\" style=\"stroke:gold;stroke-width:1\" /><line x1=\"81.163\" y1=\"363.079\" x2=\"100.859\" y2=\"359.606\" stroke-linecap=\"round\" style=\"stroke:gold;stroke-width:1\" /><line x1=\"100.859\" y1=\"359.606\" x2=\"97.386\" y2=\"339.91\" stroke-linecap=\"round\" style=\"stroke:gold;stroke-width:1\" /><line x1=\"97.386\" y1=\"339.91\" x2=\"107.234\" y2=\"338.174\" stroke-linecap=\"round\" style=\"stroke:gold;stroke-width:1\" /><line x1=\"107.234\" y1=\"338.174\" x2=\"110.707\" y2=\"357.87\" stroke-linecap=\"round\" style=\"stroke:gold;stroke-width:1\" /><line x1=\"110.707\" y1=\"357.87\" x2=\"130.403\" y2=\"354.397\" stroke-linecap=\"round\" style=\"stroke:gold;stroke-width:1\" /><line x1=\"130.403\" y1=\"354.397\" x2=\"132.139\" y2=\"364.245\" stroke-linecap=\"round\" style=\"stroke:gold;stroke-width:1\" /><line x1=\"132.139\" y1=\"364.245\" x2=\"112.443\" y2=\"367.718\" stroke-linecap=\"round\" style=\"stroke:gold;stroke-width:1\" />\n",
              "        \n",
              "        \n",
              "        <g id=\"classic\" visibility=\"visible\" transform=\"rotate(80.0,-281.4801012048832,437.1772710667712) translate(-281.4801012048832, 437.1772710667712)\">\n",
              "<polygon points=\"-5,-4.5 0,-2.5 5,-4.5 0,4.5\" transform=\"skewX(0) scale(1,1)\" style=\"stroke:gold;fill:gold;stroke-width:1\" />\n",
              "</g>\n",
              "      </svg>\n",
              "    "
            ]
          },
          "metadata": {}
        }
      ]
    },
    {
      "cell_type": "markdown",
      "source": [
        "#LSP"
      ],
      "metadata": {
        "id": "B38v1BULpCtc"
      }
    },
    {
      "cell_type": "code",
      "source": [
        "#create screen and clear it\n",
        "clearscreen()\n",
        "setup(400,400)\n",
        "\n",
        "#create LSP Turtle object\n",
        "lsp = Turtle()"
      ],
      "metadata": {
        "colab": {
          "base_uri": "https://localhost:8080/",
          "height": 421
        },
        "id": "8rDaeuBWdYIj",
        "outputId": "d9fa01a7-ae61-430c-c9a9-fc152ae35a42"
      },
      "execution_count": null,
      "outputs": [
        {
          "output_type": "display_data",
          "data": {
            "text/plain": [
              "<IPython.core.display.HTML object>"
            ],
            "text/html": [
              "\n",
              "      <svg width=\"400\" height=\"400\">  \n",
              "        <rect width=\"100%\" height=\"100%\" style=\"fill:white;stroke:;stroke-width:1\"/>\n",
              "        \n",
              "        \n",
              "        \n",
              "        \n",
              "        \n",
              "        <g id=\"classic\" visibility=\"visible\" transform=\"rotate(-90,200.0,200.0) translate(200.0, 200.0)\">\n",
              "<polygon points=\"-5,-4.5 0,-2.5 5,-4.5 0,4.5\" transform=\"skewX(0) scale(1,1)\" style=\"stroke:black;fill:black;stroke-width:1\" />\n",
              "</g>\n",
              "      </svg>\n",
              "    "
            ]
          },
          "metadata": {}
        }
      ]
    },
    {
      "cell_type": "code",
      "source": [
        "#function to draw LSP Face\n",
        "def lsp_face(turtle_obj):\n",
        "  lsp.color('blueviolet')\n",
        "  #large 5 lumps around the body\n",
        "  lsp.right(10)\n",
        "  lsp.circle(40, 180)\n",
        "  lsp.right(120)\n",
        "  lsp.circle(40, 160)\n",
        "  lsp.right(130)\n",
        "  lsp.circle(40, 180)\n",
        "  lsp.right(100)\n",
        "  lsp.circle(40,170)\n",
        "  lsp.right(120)\n",
        "  lsp.circle(35, 170)\n",
        "  lsp.right(155)\n",
        "  lsp.circle(15, 170)\n",
        "  #medium lump on bottom left\n",
        "  lsp.right(130)\n",
        "  lsp.forward(7)\n",
        "  #small 5 lumps on bottom\n",
        "  for i in range(5):\n",
        "    lsp.circle(7, 180)\n",
        "    lsp.right(180)\n",
        "  lsp.right(180)\n",
        "  lsp.forward(7)\n",
        "  #medium lump on bottom right\n",
        "  lsp.right(140)\n",
        "  lsp.circle(15.5,150)\n"
      ],
      "metadata": {
        "id": "7vI2WEeRhIoK"
      },
      "execution_count": null,
      "outputs": []
    },
    {
      "cell_type": "code",
      "source": [
        "#function to draw LSP Eyes and Frown\n",
        "def lsp_eyesmouth(turtle_obj):\n",
        "  #move\n",
        "  lsp.penup()\n",
        "  lsp.forward(65)\n",
        "  lsp.pendown()\n",
        "  #color\n",
        "  lsp.color('black')\n",
        "  #eyes\n",
        "  lsp.circle(2)\n",
        "  lsp.right(90)\n",
        "  lsp.penup()\n",
        "  lsp.forward(19)\n",
        "  lsp.pendown()\n",
        "  lsp.circle(2)\n",
        "  #move\n",
        "  lsp.penup()\n",
        "  lsp.right(90)\n",
        "  lsp.forward(25)\n",
        "  lsp.pendown()\n",
        "  lsp.right(180)\n",
        "  #frown\n",
        "  lsp.circle(10, 180, 30)\n"
      ],
      "metadata": {
        "id": "1oTv8arjmrsH"
      },
      "execution_count": null,
      "outputs": []
    },
    {
      "cell_type": "code",
      "source": [
        "#function to draw LSP star\n",
        "\n",
        "def lsp_star(turtle_obj):\n",
        "  #color\n",
        "  lsp.color('gold')\n",
        "  #move\n",
        "  lsp.right(45)\n",
        "  lsp.penup()\n",
        "  lsp.forward(130)\n",
        "  lsp.pendown()\n",
        "  #star shape\n",
        "  for i in range(5):\n",
        "    lsp.forward(10)\n",
        "    lsp.right(144)\n",
        "    lsp.forward(10)\n",
        "    lsp.left(72)"
      ],
      "metadata": {
        "id": "1UfF6DDxpmF9"
      },
      "execution_count": null,
      "outputs": []
    },
    {
      "cell_type": "code",
      "source": [
        "#draw LSP's Head\n",
        "lsp_face(lsp)"
      ],
      "metadata": {
        "colab": {
          "base_uri": "https://localhost:8080/",
          "height": 421
        },
        "id": "fMN_8dK9h7cm",
        "outputId": "e208e66e-b006-48ee-e18d-d1200182d249"
      },
      "execution_count": null,
      "outputs": [
        {
          "output_type": "display_data",
          "data": {
            "text/plain": [
              "<IPython.core.display.HTML object>"
            ],
            "text/html": [
              "\n",
              "      <svg width=\"400\" height=\"400\">  \n",
              "        <rect width=\"100%\" height=\"100%\" style=\"fill:white;stroke:;stroke-width:1\"/>\n",
              "        \n",
              "        \n",
              "        <path d=\"M 200.0 200.0 A 40 40 0 0 0 213.892 121.215\" stroke-linecap=\"round\" \n",
              "            fill=\"transparent\" fill-opacity=\"0\" style=\"stroke:blueviolet;stroke-width:1\"/><path d=\"M 213.892 121.215 A 40 40 0 0 0 163.25 60.862\" stroke-linecap=\"round\" \n",
              "            fill=\"transparent\" fill-opacity=\"0\" style=\"stroke:blueviolet;stroke-width:1\"/><path d=\"M 163.25 60.862 A 40 40 0 0 0 84.465 46.97\" stroke-linecap=\"round\" \n",
              "            fill=\"transparent\" fill-opacity=\"0\" style=\"stroke:blueviolet;stroke-width:1\"/><path d=\"M 84.465 46.97 A 40 40 0 0 0 50.784 119.199\" stroke-linecap=\"round\" \n",
              "            fill=\"transparent\" fill-opacity=\"0\" style=\"stroke:blueviolet;stroke-width:1\"/><path d=\"M 50.784 119.199 A 35 35 0 0 0 80.255 182.399\" stroke-linecap=\"round\" \n",
              "            fill=\"transparent\" fill-opacity=\"0\" style=\"stroke:blueviolet;stroke-width:1\"/><path d=\"M 80.255 182.399 A 15 15 0 0 0 99.465 205.293\" stroke-linecap=\"round\" \n",
              "            fill=\"transparent\" fill-opacity=\"0\" style=\"stroke:blueviolet;stroke-width:1\"/><line x1=\"99.465\" y1=\"205.293\" x2=\"98.855\" y2=\"212.266\" stroke-linecap=\"round\" style=\"stroke:blueviolet;stroke-width:1\" /><path d=\"M 98.855 212.266 A 7 7 0 0 0 112.802 213.486\" stroke-linecap=\"round\" \n",
              "            fill=\"transparent\" fill-opacity=\"0\" style=\"stroke:blueviolet;stroke-width:1\"/><path d=\"M 112.802 213.486 A 7 7 0 0 0 126.749 214.706\" stroke-linecap=\"round\" \n",
              "            fill=\"transparent\" fill-opacity=\"0\" style=\"stroke:blueviolet;stroke-width:1\"/><path d=\"M 126.749 214.706 A 7 7 0 0 0 140.696 215.926\" stroke-linecap=\"round\" \n",
              "            fill=\"transparent\" fill-opacity=\"0\" style=\"stroke:blueviolet;stroke-width:1\"/><path d=\"M 140.696 215.926 A 7 7 0 0 0 154.643 217.146\" stroke-linecap=\"round\" \n",
              "            fill=\"transparent\" fill-opacity=\"0\" style=\"stroke:blueviolet;stroke-width:1\"/><path d=\"M 154.643 217.146 A 7 7 0 0 0 168.59 218.366\" stroke-linecap=\"round\" \n",
              "            fill=\"transparent\" fill-opacity=\"0\" style=\"stroke:blueviolet;stroke-width:1\"/><line x1=\"168.59\" y1=\"218.366\" x2=\"169.2\" y2=\"211.393\" stroke-linecap=\"round\" style=\"stroke:blueviolet;stroke-width:1\" /><path d=\"M 169.2 211.393 A 15.5 15.5 0 0 0 171.934 214.376\" stroke-linecap=\"round\" \n",
              "            fill=\"transparent\" fill-opacity=\"0\" style=\"stroke:blueviolet;stroke-width:1\"/><path d=\"M 171.934 214.376 A 15.5 15.5 0 0 0 175.347 216.55\" stroke-linecap=\"round\" \n",
              "            fill=\"transparent\" fill-opacity=\"0\" style=\"stroke:blueviolet;stroke-width:1\"/><path d=\"M 175.347 216.55 A 15.5 15.5 0 0 0 179.206 217.767\" stroke-linecap=\"round\" \n",
              "            fill=\"transparent\" fill-opacity=\"0\" style=\"stroke:blueviolet;stroke-width:1\"/><path d=\"M 179.206 217.767 A 15.5 15.5 0 0 0 183.248 217.943\" stroke-linecap=\"round\" \n",
              "            fill=\"transparent\" fill-opacity=\"0\" style=\"stroke:blueviolet;stroke-width:1\"/><path d=\"M 183.248 217.943 A 15.5 15.5 0 0 0 187.198 217.067\" stroke-linecap=\"round\" \n",
              "            fill=\"transparent\" fill-opacity=\"0\" style=\"stroke:blueviolet;stroke-width:1\"/><path d=\"M 187.198 217.067 A 15.5 15.5 0 0 0 190.787 215.199\" stroke-linecap=\"round\" \n",
              "            fill=\"transparent\" fill-opacity=\"0\" style=\"stroke:blueviolet;stroke-width:1\"/><path d=\"M 190.787 215.199 A 15.5 15.5 0 0 0 193.77 212.465\" stroke-linecap=\"round\" \n",
              "            fill=\"transparent\" fill-opacity=\"0\" style=\"stroke:blueviolet;stroke-width:1\"/><path d=\"M 193.77 212.465 A 15.5 15.5 0 0 0 195.944 209.052\" stroke-linecap=\"round\" \n",
              "            fill=\"transparent\" fill-opacity=\"0\" style=\"stroke:blueviolet;stroke-width:1\"/><path d=\"M 195.944 209.052 A 15.5 15.5 0 0 0 197.161 205.193\" stroke-linecap=\"round\" \n",
              "            fill=\"transparent\" fill-opacity=\"0\" style=\"stroke:blueviolet;stroke-width:1\"/><path d=\"M 197.161 205.193 A 15.5 15.5 0 0 0 197.337 201.151\" stroke-linecap=\"round\" \n",
              "            fill=\"transparent\" fill-opacity=\"0\" style=\"stroke:blueviolet;stroke-width:1\"/>\n",
              "        \n",
              "        \n",
              "        <g id=\"classic\" visibility=\"visible\" transform=\"rotate(175.0,197.337,201.151) translate(197.337, 201.151)\">\n",
              "<polygon points=\"-5,-4.5 0,-2.5 5,-4.5 0,4.5\" transform=\"skewX(0) scale(1,1)\" style=\"stroke:blueviolet;fill:blueviolet;stroke-width:1\" />\n",
              "</g>\n",
              "      </svg>\n",
              "    "
            ]
          },
          "metadata": {}
        }
      ]
    },
    {
      "cell_type": "code",
      "source": [
        "#draw LSP's Frown\n",
        "lsp_eyesmouth(lsp)"
      ],
      "metadata": {
        "colab": {
          "base_uri": "https://localhost:8080/",
          "height": 421
        },
        "id": "BOqugF6SolWj",
        "outputId": "1d0b3215-99e5-4f7a-bcbe-5d0d531d8042"
      },
      "execution_count": null,
      "outputs": [
        {
          "output_type": "display_data",
          "data": {
            "text/plain": [
              "<IPython.core.display.HTML object>"
            ],
            "text/html": [
              "\n",
              "      <svg width=\"400\" height=\"400\">  \n",
              "        <rect width=\"100%\" height=\"100%\" style=\"fill:white;stroke:;stroke-width:1\"/>\n",
              "        \n",
              "        \n",
              "        <path d=\"M 200.0 200.0 A 40 40 0 0 0 213.892 121.215\" stroke-linecap=\"round\" \n",
              "            fill=\"transparent\" fill-opacity=\"0\" style=\"stroke:blueviolet;stroke-width:1\"/><path d=\"M 213.892 121.215 A 40 40 0 0 0 163.25 60.862\" stroke-linecap=\"round\" \n",
              "            fill=\"transparent\" fill-opacity=\"0\" style=\"stroke:blueviolet;stroke-width:1\"/><path d=\"M 163.25 60.862 A 40 40 0 0 0 84.465 46.97\" stroke-linecap=\"round\" \n",
              "            fill=\"transparent\" fill-opacity=\"0\" style=\"stroke:blueviolet;stroke-width:1\"/><path d=\"M 84.465 46.97 A 40 40 0 0 0 50.784 119.199\" stroke-linecap=\"round\" \n",
              "            fill=\"transparent\" fill-opacity=\"0\" style=\"stroke:blueviolet;stroke-width:1\"/><path d=\"M 50.784 119.199 A 35 35 0 0 0 80.255 182.399\" stroke-linecap=\"round\" \n",
              "            fill=\"transparent\" fill-opacity=\"0\" style=\"stroke:blueviolet;stroke-width:1\"/><path d=\"M 80.255 182.399 A 15 15 0 0 0 99.465 205.293\" stroke-linecap=\"round\" \n",
              "            fill=\"transparent\" fill-opacity=\"0\" style=\"stroke:blueviolet;stroke-width:1\"/><line x1=\"99.465\" y1=\"205.293\" x2=\"98.855\" y2=\"212.266\" stroke-linecap=\"round\" style=\"stroke:blueviolet;stroke-width:1\" /><path d=\"M 98.855 212.266 A 7 7 0 0 0 112.802 213.486\" stroke-linecap=\"round\" \n",
              "            fill=\"transparent\" fill-opacity=\"0\" style=\"stroke:blueviolet;stroke-width:1\"/><path d=\"M 112.802 213.486 A 7 7 0 0 0 126.749 214.706\" stroke-linecap=\"round\" \n",
              "            fill=\"transparent\" fill-opacity=\"0\" style=\"stroke:blueviolet;stroke-width:1\"/><path d=\"M 126.749 214.706 A 7 7 0 0 0 140.696 215.926\" stroke-linecap=\"round\" \n",
              "            fill=\"transparent\" fill-opacity=\"0\" style=\"stroke:blueviolet;stroke-width:1\"/><path d=\"M 140.696 215.926 A 7 7 0 0 0 154.643 217.146\" stroke-linecap=\"round\" \n",
              "            fill=\"transparent\" fill-opacity=\"0\" style=\"stroke:blueviolet;stroke-width:1\"/><path d=\"M 154.643 217.146 A 7 7 0 0 0 168.59 218.366\" stroke-linecap=\"round\" \n",
              "            fill=\"transparent\" fill-opacity=\"0\" style=\"stroke:blueviolet;stroke-width:1\"/><line x1=\"168.59\" y1=\"218.366\" x2=\"169.2\" y2=\"211.393\" stroke-linecap=\"round\" style=\"stroke:blueviolet;stroke-width:1\" /><path d=\"M 169.2 211.393 A 15.5 15.5 0 0 0 197.338 201.152\" stroke-linecap=\"round\" \n",
              "            fill=\"transparent\" fill-opacity=\"0\" style=\"stroke:blueviolet;stroke-width:1\"/><path d=\"M 191.673 136.399 A 2 2 0 0 0 187.688 136.748\" stroke-linecap=\"round\" \n",
              "            fill=\"transparent\" fill-opacity=\"0\" style=\"stroke:black;stroke-width:1\"/><path d=\"M 187.688 136.748 A 2 2 0 0 0 191.673 136.399\" stroke-linecap=\"round\" \n",
              "            fill=\"transparent\" fill-opacity=\"0\" style=\"stroke:black;stroke-width:1\"/><path d=\"M 210.601 134.743 A 2 2 0 0 0 210.252 130.758\" stroke-linecap=\"round\" \n",
              "            fill=\"transparent\" fill-opacity=\"0\" style=\"stroke:black;stroke-width:1\"/><path d=\"M 210.252 130.758 A 2 2 0 0 0 210.601 134.743\" stroke-linecap=\"round\" \n",
              "            fill=\"transparent\" fill-opacity=\"0\" style=\"stroke:black;stroke-width:1\"/><path d=\"M 212.78 159.648 A 10 10 0 0 0 212.215 157.099\" stroke-linecap=\"round\" \n",
              "            fill=\"transparent\" fill-opacity=\"0\" style=\"stroke:black;stroke-width:1\"/><path d=\"M 212.215 157.099 A 10 10 0 0 0 211.01 154.783\" stroke-linecap=\"round\" \n",
              "            fill=\"transparent\" fill-opacity=\"0\" style=\"stroke:black;stroke-width:1\"/><path d=\"M 211.01 154.783 A 10 10 0 0 0 209.246 152.858\" stroke-linecap=\"round\" \n",
              "            fill=\"transparent\" fill-opacity=\"0\" style=\"stroke:black;stroke-width:1\"/><path d=\"M 209.246 152.858 A 10 10 0 0 0 207.044 151.455\" stroke-linecap=\"round\" \n",
              "            fill=\"transparent\" fill-opacity=\"0\" style=\"stroke:black;stroke-width:1\"/><path d=\"M 207.044 151.455 A 10 10 0 0 0 204.554 150.67\" stroke-linecap=\"round\" \n",
              "            fill=\"transparent\" fill-opacity=\"0\" style=\"stroke:black;stroke-width:1\"/><path d=\"M 204.554 150.67 A 10 10 0 0 0 201.946 150.556\" stroke-linecap=\"round\" \n",
              "            fill=\"transparent\" fill-opacity=\"0\" style=\"stroke:black;stroke-width:1\"/><path d=\"M 201.946 150.556 A 10 10 0 0 0 199.397 151.121\" stroke-linecap=\"round\" \n",
              "            fill=\"transparent\" fill-opacity=\"0\" style=\"stroke:black;stroke-width:1\"/><path d=\"M 199.397 151.121 A 10 10 0 0 0 197.081 152.326\" stroke-linecap=\"round\" \n",
              "            fill=\"transparent\" fill-opacity=\"0\" style=\"stroke:black;stroke-width:1\"/><path d=\"M 197.081 152.326 A 10 10 0 0 0 195.156 154.09\" stroke-linecap=\"round\" \n",
              "            fill=\"transparent\" fill-opacity=\"0\" style=\"stroke:black;stroke-width:1\"/><path d=\"M 195.156 154.09 A 10 10 0 0 0 193.753 156.292\" stroke-linecap=\"round\" \n",
              "            fill=\"transparent\" fill-opacity=\"0\" style=\"stroke:black;stroke-width:1\"/><path d=\"M 193.753 156.292 A 10 10 0 0 0 192.968 158.782\" stroke-linecap=\"round\" \n",
              "            fill=\"transparent\" fill-opacity=\"0\" style=\"stroke:black;stroke-width:1\"/><path d=\"M 192.968 158.782 A 10 10 0 0 0 192.854 161.39\" stroke-linecap=\"round\" \n",
              "            fill=\"transparent\" fill-opacity=\"0\" style=\"stroke:black;stroke-width:1\"/>\n",
              "        \n",
              "        \n",
              "        <g id=\"classic\" visibility=\"visible\" transform=\"rotate(-5.0,192.854,161.39) translate(192.854, 161.39)\">\n",
              "<polygon points=\"-5,-4.5 0,-2.5 5,-4.5 0,4.5\" transform=\"skewX(0) scale(1,1)\" style=\"stroke:black;fill:black;stroke-width:1\" />\n",
              "</g>\n",
              "      </svg>\n",
              "    "
            ]
          },
          "metadata": {}
        }
      ]
    },
    {
      "cell_type": "code",
      "source": [
        "#draw LSP's star\n",
        "lsp_star(lsp)"
      ],
      "metadata": {
        "colab": {
          "base_uri": "https://localhost:8080/",
          "height": 421
        },
        "id": "LqTzpRhFonOS",
        "outputId": "872f99f4-4b0e-4c4e-d509-d0896916a811"
      },
      "execution_count": null,
      "outputs": [
        {
          "output_type": "display_data",
          "data": {
            "text/plain": [
              "<IPython.core.display.HTML object>"
            ],
            "text/html": [
              "\n",
              "      <svg width=\"400\" height=\"400\">  \n",
              "        <rect width=\"100%\" height=\"100%\" style=\"fill:white;stroke:;stroke-width:1\"/>\n",
              "        \n",
              "        \n",
              "        <path d=\"M 200.0 200.0 A 40 40 0 0 0 213.892 121.215\" stroke-linecap=\"round\" \n",
              "            fill=\"transparent\" fill-opacity=\"0\" style=\"stroke:blueviolet;stroke-width:1\"/><path d=\"M 213.892 121.215 A 40 40 0 0 0 163.25 60.862\" stroke-linecap=\"round\" \n",
              "            fill=\"transparent\" fill-opacity=\"0\" style=\"stroke:blueviolet;stroke-width:1\"/><path d=\"M 163.25 60.862 A 40 40 0 0 0 84.465 46.97\" stroke-linecap=\"round\" \n",
              "            fill=\"transparent\" fill-opacity=\"0\" style=\"stroke:blueviolet;stroke-width:1\"/><path d=\"M 84.465 46.97 A 40 40 0 0 0 50.784 119.199\" stroke-linecap=\"round\" \n",
              "            fill=\"transparent\" fill-opacity=\"0\" style=\"stroke:blueviolet;stroke-width:1\"/><path d=\"M 50.784 119.199 A 35 35 0 0 0 80.255 182.399\" stroke-linecap=\"round\" \n",
              "            fill=\"transparent\" fill-opacity=\"0\" style=\"stroke:blueviolet;stroke-width:1\"/><path d=\"M 80.255 182.399 A 15 15 0 0 0 99.465 205.293\" stroke-linecap=\"round\" \n",
              "            fill=\"transparent\" fill-opacity=\"0\" style=\"stroke:blueviolet;stroke-width:1\"/><line x1=\"99.465\" y1=\"205.293\" x2=\"98.855\" y2=\"212.266\" stroke-linecap=\"round\" style=\"stroke:blueviolet;stroke-width:1\" /><path d=\"M 98.855 212.266 A 7 7 0 0 0 112.802 213.486\" stroke-linecap=\"round\" \n",
              "            fill=\"transparent\" fill-opacity=\"0\" style=\"stroke:blueviolet;stroke-width:1\"/><path d=\"M 112.802 213.486 A 7 7 0 0 0 126.749 214.706\" stroke-linecap=\"round\" \n",
              "            fill=\"transparent\" fill-opacity=\"0\" style=\"stroke:blueviolet;stroke-width:1\"/><path d=\"M 126.749 214.706 A 7 7 0 0 0 140.696 215.926\" stroke-linecap=\"round\" \n",
              "            fill=\"transparent\" fill-opacity=\"0\" style=\"stroke:blueviolet;stroke-width:1\"/><path d=\"M 140.696 215.926 A 7 7 0 0 0 154.643 217.146\" stroke-linecap=\"round\" \n",
              "            fill=\"transparent\" fill-opacity=\"0\" style=\"stroke:blueviolet;stroke-width:1\"/><path d=\"M 154.643 217.146 A 7 7 0 0 0 168.59 218.366\" stroke-linecap=\"round\" \n",
              "            fill=\"transparent\" fill-opacity=\"0\" style=\"stroke:blueviolet;stroke-width:1\"/><line x1=\"168.59\" y1=\"218.366\" x2=\"169.2\" y2=\"211.393\" stroke-linecap=\"round\" style=\"stroke:blueviolet;stroke-width:1\" /><path d=\"M 169.2 211.393 A 15.5 15.5 0 0 0 197.338 201.152\" stroke-linecap=\"round\" \n",
              "            fill=\"transparent\" fill-opacity=\"0\" style=\"stroke:blueviolet;stroke-width:1\"/><path d=\"M 191.673 136.399 A 2 2 0 0 0 187.688 136.748\" stroke-linecap=\"round\" \n",
              "            fill=\"transparent\" fill-opacity=\"0\" style=\"stroke:black;stroke-width:1\"/><path d=\"M 187.688 136.748 A 2 2 0 0 0 191.673 136.399\" stroke-linecap=\"round\" \n",
              "            fill=\"transparent\" fill-opacity=\"0\" style=\"stroke:black;stroke-width:1\"/><path d=\"M 210.601 134.743 A 2 2 0 0 0 210.252 130.758\" stroke-linecap=\"round\" \n",
              "            fill=\"transparent\" fill-opacity=\"0\" style=\"stroke:black;stroke-width:1\"/><path d=\"M 210.252 130.758 A 2 2 0 0 0 210.601 134.743\" stroke-linecap=\"round\" \n",
              "            fill=\"transparent\" fill-opacity=\"0\" style=\"stroke:black;stroke-width:1\"/><path d=\"M 212.78 159.648 A 10 10 0 0 0 192.856 161.391\" stroke-linecap=\"round\" \n",
              "            fill=\"transparent\" fill-opacity=\"0\" style=\"stroke:black;stroke-width:1\"/><line x1=\"109.294\" y1=\"260.977\" x2=\"102.866\" y2=\"268.637\" stroke-linecap=\"round\" style=\"stroke:gold;stroke-width:1\" /><line x1=\"102.866\" y1=\"268.637\" x2=\"103.564\" y2=\"258.661\" stroke-linecap=\"round\" style=\"stroke:gold;stroke-width:1\" /><line x1=\"103.564\" y1=\"258.661\" x2=\"94.292\" y2=\"254.915\" stroke-linecap=\"round\" style=\"stroke:gold;stroke-width:1\" /><line x1=\"94.292\" y1=\"254.915\" x2=\"103.995\" y2=\"252.496\" stroke-linecap=\"round\" style=\"stroke:gold;stroke-width:1\" /><line x1=\"103.995\" y1=\"252.496\" x2=\"104.693\" y2=\"242.52\" stroke-linecap=\"round\" style=\"stroke:gold;stroke-width:1\" /><line x1=\"104.693\" y1=\"242.52\" x2=\"109.992\" y2=\"251.0\" stroke-linecap=\"round\" style=\"stroke:gold;stroke-width:1\" /><line x1=\"109.992\" y1=\"251.0\" x2=\"119.695\" y2=\"248.581\" stroke-linecap=\"round\" style=\"stroke:gold;stroke-width:1\" /><line x1=\"119.695\" y1=\"248.581\" x2=\"113.267\" y2=\"256.241\" stroke-linecap=\"round\" style=\"stroke:gold;stroke-width:1\" /><line x1=\"113.267\" y1=\"256.241\" x2=\"118.566\" y2=\"264.721\" stroke-linecap=\"round\" style=\"stroke:gold;stroke-width:1\" /><line x1=\"118.566\" y1=\"264.721\" x2=\"109.294\" y2=\"260.975\" stroke-linecap=\"round\" style=\"stroke:gold;stroke-width:1\" />\n",
              "        \n",
              "        \n",
              "        <g id=\"classic\" visibility=\"visible\" transform=\"rotate(112.0,109.294,260.975) translate(109.294, 260.975)\">\n",
              "<polygon points=\"-5,-4.5 0,-2.5 5,-4.5 0,4.5\" transform=\"skewX(0) scale(1,1)\" style=\"stroke:gold;fill:gold;stroke-width:1\" />\n",
              "<animateTransform id = \"one\" attributeName=\"transform\" \n",
              "                      type=\"scale\"\n",
              "                      from=\"1 1\" to=\"1 1\"\n",
              "                      begin=\"0s\" dur=\"0.01s\"\n",
              "                      repeatCount=\"1\"\n",
              "                      additive=\"sum\"\n",
              "                      fill=\"freeze\"\n",
              "                /><animateTransform attributeName=\"transform\"\n",
              "                    type=\"rotate\"\n",
              "                    from=\"0 0 0\" to =\"-72 0 0\"\n",
              "                    begin=\"one.end\" dur=\"0.2s\"\n",
              "                    repeatCount=\"1\"\n",
              "                    additive=\"sum\"\n",
              "                    fill=\"freeze\"\n",
              "                /></g>\n",
              "      </svg>\n",
              "    "
            ]
          },
          "metadata": {}
        }
      ]
    },
    {
      "cell_type": "code",
      "source": [
        "#get rid of pen\n",
        "lsp.penup()\n",
        "lsp.forward(200)"
      ],
      "metadata": {
        "colab": {
          "base_uri": "https://localhost:8080/",
          "height": 421
        },
        "id": "gv1Cn9z0rb07",
        "outputId": "ee4965df-9af6-4cbe-b315-4c224ffc608b"
      },
      "execution_count": null,
      "outputs": [
        {
          "output_type": "display_data",
          "data": {
            "text/plain": [
              "<IPython.core.display.HTML object>"
            ],
            "text/html": [
              "\n",
              "      <svg width=\"400\" height=\"400\">  \n",
              "        <rect width=\"100%\" height=\"100%\" style=\"fill:white;stroke:;stroke-width:1\"/>\n",
              "        \n",
              "        \n",
              "        <path d=\"M 200.0 200.0 A 40 40 0 0 0 213.892 121.215\" stroke-linecap=\"round\" \n",
              "            fill=\"transparent\" fill-opacity=\"0\" style=\"stroke:blueviolet;stroke-width:1\"/><path d=\"M 213.892 121.215 A 40 40 0 0 0 163.25 60.862\" stroke-linecap=\"round\" \n",
              "            fill=\"transparent\" fill-opacity=\"0\" style=\"stroke:blueviolet;stroke-width:1\"/><path d=\"M 163.25 60.862 A 40 40 0 0 0 84.465 46.97\" stroke-linecap=\"round\" \n",
              "            fill=\"transparent\" fill-opacity=\"0\" style=\"stroke:blueviolet;stroke-width:1\"/><path d=\"M 84.465 46.97 A 40 40 0 0 0 50.784 119.199\" stroke-linecap=\"round\" \n",
              "            fill=\"transparent\" fill-opacity=\"0\" style=\"stroke:blueviolet;stroke-width:1\"/><path d=\"M 50.784 119.199 A 35 35 0 0 0 80.255 182.399\" stroke-linecap=\"round\" \n",
              "            fill=\"transparent\" fill-opacity=\"0\" style=\"stroke:blueviolet;stroke-width:1\"/><path d=\"M 80.255 182.399 A 15 15 0 0 0 99.465 205.293\" stroke-linecap=\"round\" \n",
              "            fill=\"transparent\" fill-opacity=\"0\" style=\"stroke:blueviolet;stroke-width:1\"/><line x1=\"99.465\" y1=\"205.293\" x2=\"98.855\" y2=\"212.266\" stroke-linecap=\"round\" style=\"stroke:blueviolet;stroke-width:1\" /><path d=\"M 98.855 212.266 A 7 7 0 0 0 112.802 213.486\" stroke-linecap=\"round\" \n",
              "            fill=\"transparent\" fill-opacity=\"0\" style=\"stroke:blueviolet;stroke-width:1\"/><path d=\"M 112.802 213.486 A 7 7 0 0 0 126.749 214.706\" stroke-linecap=\"round\" \n",
              "            fill=\"transparent\" fill-opacity=\"0\" style=\"stroke:blueviolet;stroke-width:1\"/><path d=\"M 126.749 214.706 A 7 7 0 0 0 140.696 215.926\" stroke-linecap=\"round\" \n",
              "            fill=\"transparent\" fill-opacity=\"0\" style=\"stroke:blueviolet;stroke-width:1\"/><path d=\"M 140.696 215.926 A 7 7 0 0 0 154.643 217.146\" stroke-linecap=\"round\" \n",
              "            fill=\"transparent\" fill-opacity=\"0\" style=\"stroke:blueviolet;stroke-width:1\"/><path d=\"M 154.643 217.146 A 7 7 0 0 0 168.59 218.366\" stroke-linecap=\"round\" \n",
              "            fill=\"transparent\" fill-opacity=\"0\" style=\"stroke:blueviolet;stroke-width:1\"/><line x1=\"168.59\" y1=\"218.366\" x2=\"169.2\" y2=\"211.393\" stroke-linecap=\"round\" style=\"stroke:blueviolet;stroke-width:1\" /><path d=\"M 169.2 211.393 A 15.5 15.5 0 0 0 197.338 201.152\" stroke-linecap=\"round\" \n",
              "            fill=\"transparent\" fill-opacity=\"0\" style=\"stroke:blueviolet;stroke-width:1\"/><path d=\"M 191.673 136.399 A 2 2 0 0 0 187.688 136.748\" stroke-linecap=\"round\" \n",
              "            fill=\"transparent\" fill-opacity=\"0\" style=\"stroke:black;stroke-width:1\"/><path d=\"M 187.688 136.748 A 2 2 0 0 0 191.673 136.399\" stroke-linecap=\"round\" \n",
              "            fill=\"transparent\" fill-opacity=\"0\" style=\"stroke:black;stroke-width:1\"/><path d=\"M 210.601 134.743 A 2 2 0 0 0 210.252 130.758\" stroke-linecap=\"round\" \n",
              "            fill=\"transparent\" fill-opacity=\"0\" style=\"stroke:black;stroke-width:1\"/><path d=\"M 210.252 130.758 A 2 2 0 0 0 210.601 134.743\" stroke-linecap=\"round\" \n",
              "            fill=\"transparent\" fill-opacity=\"0\" style=\"stroke:black;stroke-width:1\"/><path d=\"M 212.78 159.648 A 10 10 0 0 0 192.856 161.391\" stroke-linecap=\"round\" \n",
              "            fill=\"transparent\" fill-opacity=\"0\" style=\"stroke:black;stroke-width:1\"/><line x1=\"109.294\" y1=\"260.977\" x2=\"102.866\" y2=\"268.637\" stroke-linecap=\"round\" style=\"stroke:gold;stroke-width:1\" /><line x1=\"102.866\" y1=\"268.637\" x2=\"103.564\" y2=\"258.661\" stroke-linecap=\"round\" style=\"stroke:gold;stroke-width:1\" /><line x1=\"103.564\" y1=\"258.661\" x2=\"94.292\" y2=\"254.915\" stroke-linecap=\"round\" style=\"stroke:gold;stroke-width:1\" /><line x1=\"94.292\" y1=\"254.915\" x2=\"103.995\" y2=\"252.496\" stroke-linecap=\"round\" style=\"stroke:gold;stroke-width:1\" /><line x1=\"103.995\" y1=\"252.496\" x2=\"104.693\" y2=\"242.52\" stroke-linecap=\"round\" style=\"stroke:gold;stroke-width:1\" /><line x1=\"104.693\" y1=\"242.52\" x2=\"109.992\" y2=\"251.0\" stroke-linecap=\"round\" style=\"stroke:gold;stroke-width:1\" /><line x1=\"109.992\" y1=\"251.0\" x2=\"119.695\" y2=\"248.581\" stroke-linecap=\"round\" style=\"stroke:gold;stroke-width:1\" /><line x1=\"119.695\" y1=\"248.581\" x2=\"113.267\" y2=\"256.241\" stroke-linecap=\"round\" style=\"stroke:gold;stroke-width:1\" /><line x1=\"113.267\" y1=\"256.241\" x2=\"118.566\" y2=\"264.721\" stroke-linecap=\"round\" style=\"stroke:gold;stroke-width:1\" /><line x1=\"118.566\" y1=\"264.721\" x2=\"109.294\" y2=\"260.975\" stroke-linecap=\"round\" style=\"stroke:gold;stroke-width:1\" />\n",
              "        \n",
              "        \n",
              "        <g id=\"classic\" visibility=\"visible\" transform=\"rotate(40.0,-19.26352193730783,414.1838886237955) translate(-19.26352193730783, 414.1838886237955)\">\n",
              "<polygon points=\"-5,-4.5 0,-2.5 5,-4.5 0,4.5\" transform=\"skewX(0) scale(1,1)\" style=\"stroke:gold;fill:gold;stroke-width:1\" />\n",
              "</g>\n",
              "      </svg>\n",
              "    "
            ]
          },
          "metadata": {}
        }
      ]
    }
  ]
}